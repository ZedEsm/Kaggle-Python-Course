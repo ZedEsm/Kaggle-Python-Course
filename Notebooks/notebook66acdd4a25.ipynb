{
 "cells": [
  {
   "cell_type": "markdown",
   "id": "8508f4a1",
   "metadata": {
    "papermill": {
     "duration": 0.008088,
     "end_time": "2023-02-14T14:48:47.421882",
     "exception": false,
     "start_time": "2023-02-14T14:48:47.413794",
     "status": "completed"
    },
    "tags": []
   },
   "source": [
    "**This notebook is an exercise in the [Python](https://www.kaggle.com/learn/python) course.  You can reference the tutorial at [this link](https://www.kaggle.com/colinmorris/hello-python).**\n",
    "\n",
    "---\n"
   ]
  },
  {
   "cell_type": "markdown",
   "id": "f57eaad6",
   "metadata": {
    "papermill": {
     "duration": 0.006641,
     "end_time": "2023-02-14T14:48:47.436069",
     "exception": false,
     "start_time": "2023-02-14T14:48:47.429428",
     "status": "completed"
    },
    "tags": []
   },
   "source": [
    "Welcome to your first set of Python coding problems.  If this is your first time using Kaggle Notebooks, welcome! \n",
    "\n",
    "Notebooks are composed of blocks (called \"cells\") of text and code. Each of these is editable, though you'll mainly be editing the code cells to answer some questions.\n",
    "\n",
    "To get started, try running the code cell below (by pressing the ► button, or clicking on the cell and pressing ctrl+enter on your keyboard)."
   ]
  },
  {
   "cell_type": "code",
   "execution_count": 1,
   "id": "287907d1",
   "metadata": {
    "execution": {
     "iopub.execute_input": "2023-02-14T14:48:47.452233Z",
     "iopub.status.busy": "2023-02-14T14:48:47.451226Z",
     "iopub.status.idle": "2023-02-14T14:48:47.464821Z",
     "shell.execute_reply": "2023-02-14T14:48:47.463533Z"
    },
    "papermill": {
     "duration": 0.02501,
     "end_time": "2023-02-14T14:48:47.467800",
     "exception": false,
     "start_time": "2023-02-14T14:48:47.442790",
     "status": "completed"
    },
    "tags": []
   },
   "outputs": [
    {
     "name": "stdout",
     "output_type": "stream",
     "text": [
      "You've successfully run some Python code\n",
      "Congratulations!\n"
     ]
    }
   ],
   "source": [
    "print(\"You've successfully run some Python code\")\n",
    "print(\"Congratulations!\")"
   ]
  },
  {
   "cell_type": "markdown",
   "id": "8c8124ff",
   "metadata": {
    "papermill": {
     "duration": 0.00828,
     "end_time": "2023-02-14T14:48:47.484563",
     "exception": false,
     "start_time": "2023-02-14T14:48:47.476283",
     "status": "completed"
    },
    "tags": []
   },
   "source": [
    "Try adding another line of code in the cell above and re-running it. \n",
    "\n",
    "Now let's get a little fancier:  Add a new code cell by clicking on an existing code cell, hitting the escape key, and then hitting the `a` or `b` key.  The `a` key will add a cell above the current cell, and `b` adds a cell below.\n",
    "\n",
    "Great! Now you know how to use Notebooks.\n",
    "\n",
    "Each hands-on exercise starts by setting up our feedback and code checking mechanism. Run the code cell below to do that. Then you'll be ready to move on to question 0."
   ]
  },
  {
   "cell_type": "code",
   "execution_count": 2,
   "id": "44394b4c",
   "metadata": {
    "_kg_hide-input": true,
    "_kg_hide-output": true,
    "execution": {
     "iopub.execute_input": "2023-02-14T14:48:47.501101Z",
     "iopub.status.busy": "2023-02-14T14:48:47.500669Z",
     "iopub.status.idle": "2023-02-14T14:48:47.561797Z",
     "shell.execute_reply": "2023-02-14T14:48:47.559969Z"
    },
    "papermill": {
     "duration": 0.072773,
     "end_time": "2023-02-14T14:48:47.565130",
     "exception": false,
     "start_time": "2023-02-14T14:48:47.492357",
     "status": "completed"
    },
    "tags": []
   },
   "outputs": [
    {
     "name": "stdout",
     "output_type": "stream",
     "text": [
      "Setup complete! You're ready to start question 0.\n"
     ]
    }
   ],
   "source": [
    "from learntools.core import binder; binder.bind(globals())\n",
    "from learntools.python.ex1 import *\n",
    "print(\"Setup complete! You're ready to start question 0.\")"
   ]
  },
  {
   "cell_type": "markdown",
   "id": "7d7f08ee",
   "metadata": {
    "papermill": {
     "duration": 0.006753,
     "end_time": "2023-02-14T14:48:47.579060",
     "exception": false,
     "start_time": "2023-02-14T14:48:47.572307",
     "status": "completed"
    },
    "tags": []
   },
   "source": [
    "# 0.\n",
    "\n",
    "*This is a silly question intended as an introduction to the format we use for hands-on exercises throughout all Kaggle courses.*\n",
    "\n",
    "**What is your favorite color? **\n",
    "\n",
    "To complete this question, create a variable called `color` in the cell below with an appropriate value. The function call `q0.check()` (which we've already provided in the cell below) will check your answer."
   ]
  },
  {
   "cell_type": "code",
   "execution_count": 3,
   "id": "d098a75d",
   "metadata": {
    "execution": {
     "iopub.execute_input": "2023-02-14T14:48:47.595647Z",
     "iopub.status.busy": "2023-02-14T14:48:47.594919Z",
     "iopub.status.idle": "2023-02-14T14:48:47.608228Z",
     "shell.execute_reply": "2023-02-14T14:48:47.606986Z"
    },
    "papermill": {
     "duration": 0.024549,
     "end_time": "2023-02-14T14:48:47.610872",
     "exception": false,
     "start_time": "2023-02-14T14:48:47.586323",
     "status": "completed"
    },
    "tags": []
   },
   "outputs": [
    {
     "data": {
      "application/javascript": [
       "parent.postMessage({\"jupyterEvent\": \"custom.exercise_interaction\", \"data\": {\"outcomeType\": 1, \"valueTowardsCompletion\": 0.25, \"interactionType\": 1, \"questionType\": 2, \"questionId\": \"0_ExerciseFormatTutorial\", \"learnToolsVersion\": \"0.3.4\", \"failureMessage\": \"\", \"exceptionClass\": \"\", \"trace\": \"\"}}, \"*\")"
      ],
      "text/plain": [
       "<IPython.core.display.Javascript object>"
      ]
     },
     "metadata": {},
     "output_type": "display_data"
    },
    {
     "data": {
      "text/markdown": [
       "<span style=\"color:#33cc33\">Correct:</span> What?! You got it right without needing a hint or anything? Drats. Well hey, you should still continue to the next step to get some practice asking for a hint and checking solutions. (Even though you obviously don't need any help here.)"
      ],
      "text/plain": [
       "Correct: What?! You got it right without needing a hint or anything? Drats. Well hey, you should still continue to the next step to get some practice asking for a hint and checking solutions. (Even though you obviously don't need any help here.)"
      ]
     },
     "metadata": {},
     "output_type": "display_data"
    }
   ],
   "source": [
    "# create a variable called color with an appropriate value on the line below\n",
    "# (Remember, strings in Python must be enclosed in 'single' or \"double\" quotes)\n",
    "____\n",
    "color = \"Blue\"\n",
    "# Check your answer\n",
    "q0.check()"
   ]
  },
  {
   "cell_type": "markdown",
   "id": "1f5fd1fb",
   "metadata": {
    "papermill": {
     "duration": 0.007024,
     "end_time": "2023-02-14T14:48:47.625633",
     "exception": false,
     "start_time": "2023-02-14T14:48:47.618609",
     "status": "completed"
    },
    "tags": []
   },
   "source": [
    "Didn't get the right answer? How do you not even know your own favorite color?!\n",
    "\n",
    "Delete the `#` in the line below to make one of the lines run. You can choose between getting a hint or the full answer by choosing which line to remove the `#` from. \n",
    "\n",
    "Removing the `#` is called uncommenting, because it changes that line from a \"comment\" which Python doesn't run to code, which Python does run."
   ]
  },
  {
   "cell_type": "code",
   "execution_count": 4,
   "id": "05c56d7b",
   "metadata": {
    "execution": {
     "iopub.execute_input": "2023-02-14T14:48:47.642869Z",
     "iopub.status.busy": "2023-02-14T14:48:47.642184Z",
     "iopub.status.idle": "2023-02-14T14:48:47.651483Z",
     "shell.execute_reply": "2023-02-14T14:48:47.650167Z"
    },
    "papermill": {
     "duration": 0.021034,
     "end_time": "2023-02-14T14:48:47.654039",
     "exception": false,
     "start_time": "2023-02-14T14:48:47.633005",
     "status": "completed"
    },
    "tags": []
   },
   "outputs": [
    {
     "data": {
      "application/javascript": [
       "parent.postMessage({\"jupyterEvent\": \"custom.exercise_interaction\", \"data\": {\"interactionType\": 2, \"questionType\": 2, \"questionId\": \"0_ExerciseFormatTutorial\", \"learnToolsVersion\": \"0.3.4\", \"valueTowardsCompletion\": 0.0, \"failureMessage\": \"\", \"exceptionClass\": \"\", \"trace\": \"\", \"outcomeType\": 4}}, \"*\")"
      ],
      "text/plain": [
       "<IPython.core.display.Javascript object>"
      ]
     },
     "metadata": {},
     "output_type": "display_data"
    },
    {
     "data": {
      "text/markdown": [
       "<span style=\"color:#3366cc\">Hint:</span> Your favorite color rhymes with *glue*."
      ],
      "text/plain": [
       "Hint: Your favorite color rhymes with *glue*."
      ]
     },
     "metadata": {},
     "output_type": "display_data"
    }
   ],
   "source": [
    "q0.hint()\n",
    "#q0.solution()"
   ]
  },
  {
   "cell_type": "markdown",
   "id": "d1f50401",
   "metadata": {
    "papermill": {
     "duration": 0.0084,
     "end_time": "2023-02-14T14:48:47.669899",
     "exception": false,
     "start_time": "2023-02-14T14:48:47.661499",
     "status": "completed"
    },
    "tags": []
   },
   "source": [
    "The upcoming questions work the same way. The only thing that will change are the question numbers. For the next question, you'll call `q1.check()`, `q1.hint()`, `q1.solution()`, for question 2, you'll call `q2.check()`, and so on."
   ]
  },
  {
   "cell_type": "markdown",
   "id": "91fc9a5d",
   "metadata": {
    "papermill": {
     "duration": 0.00705,
     "end_time": "2023-02-14T14:48:47.684461",
     "exception": false,
     "start_time": "2023-02-14T14:48:47.677411",
     "status": "completed"
    },
    "tags": []
   },
   "source": [
    "<hr/>\n",
    "\n",
    "# 1.\n",
    "\n",
    "Complete the code below. In case it's helpful, here is the table of available arithmetic operations:\n",
    "\n",
    "\n",
    "\n",
    "| Operator     | Name           | Description                                            |\n",
    "|--------------|----------------|--------------------------------------------------------|\n",
    "| ``a + b``    | Addition       | Sum of ``a`` and ``b``                                 |\n",
    "| ``a - b``    | Subtraction    | Difference of ``a`` and ``b``                          |\n",
    "| ``a * b``    | Multiplication | Product of ``a`` and ``b``                             |\n",
    "| ``a / b``    | True division  | Quotient of ``a`` and ``b``                            |\n",
    "| ``a // b``   | Floor division | Quotient of ``a`` and ``b``, removing fractional parts |\n",
    "| ``a % b``    | Modulus        | Integer remainder after division of ``a`` by ``b``     |\n",
    "| ``a ** b``   | Exponentiation | ``a`` raised to the power of ``b``                     |\n",
    "| ``-a``       | Negation       | The negative of ``a``                                  |\n",
    "\n",
    "<span style=\"display:none\"></span>\n"
   ]
  },
  {
   "cell_type": "code",
   "execution_count": 5,
   "id": "6745a453",
   "metadata": {
    "execution": {
     "iopub.execute_input": "2023-02-14T14:48:47.701774Z",
     "iopub.status.busy": "2023-02-14T14:48:47.701360Z",
     "iopub.status.idle": "2023-02-14T14:48:47.709565Z",
     "shell.execute_reply": "2023-02-14T14:48:47.708699Z"
    },
    "papermill": {
     "duration": 0.019934,
     "end_time": "2023-02-14T14:48:47.711967",
     "exception": false,
     "start_time": "2023-02-14T14:48:47.692033",
     "status": "completed"
    },
    "tags": []
   },
   "outputs": [
    {
     "data": {
      "application/javascript": [
       "parent.postMessage({\"jupyterEvent\": \"custom.exercise_interaction\", \"data\": {\"outcomeType\": 1, \"valueTowardsCompletion\": 0.25, \"interactionType\": 1, \"questionType\": 1, \"questionId\": \"1_CircleArea\", \"learnToolsVersion\": \"0.3.4\", \"failureMessage\": \"\", \"exceptionClass\": \"\", \"trace\": \"\"}}, \"*\")"
      ],
      "text/plain": [
       "<IPython.core.display.Javascript object>"
      ]
     },
     "metadata": {},
     "output_type": "display_data"
    },
    {
     "data": {
      "text/markdown": [
       "<span style=\"color:#33cc33\">Correct</span>"
      ],
      "text/plain": [
       "Correct"
      ]
     },
     "metadata": {},
     "output_type": "display_data"
    }
   ],
   "source": [
    "pi = 3.14159 # approximate\n",
    "diameter = 3\n",
    "\n",
    "# Create a variable called 'radius' equal to half the diameter\n",
    "radius = diameter/2\n",
    "____\n",
    "\n",
    "# Create a variable called 'area', using the formula for the area of a circle: pi times the radius squared\n",
    "area = pi * ((radius)**2)\n",
    "____\n",
    "\n",
    "# Check your answer\n",
    "q1.check()"
   ]
  },
  {
   "cell_type": "code",
   "execution_count": 6,
   "id": "377bdcd2",
   "metadata": {
    "execution": {
     "iopub.execute_input": "2023-02-14T14:48:47.730034Z",
     "iopub.status.busy": "2023-02-14T14:48:47.728959Z",
     "iopub.status.idle": "2023-02-14T14:48:47.733626Z",
     "shell.execute_reply": "2023-02-14T14:48:47.732674Z"
    },
    "papermill": {
     "duration": 0.016206,
     "end_time": "2023-02-14T14:48:47.735930",
     "exception": false,
     "start_time": "2023-02-14T14:48:47.719724",
     "status": "completed"
    },
    "tags": []
   },
   "outputs": [],
   "source": [
    "# Uncomment and run the lines below if you need help.\n",
    "#q1.hint()\n",
    "#q1.solution()"
   ]
  },
  {
   "cell_type": "markdown",
   "id": "bb96a329",
   "metadata": {
    "papermill": {
     "duration": 0.007458,
     "end_time": "2023-02-14T14:48:47.751295",
     "exception": false,
     "start_time": "2023-02-14T14:48:47.743837",
     "status": "completed"
    },
    "tags": []
   },
   "source": [
    "<hr/>\n",
    "\n",
    "# 2.\n",
    "\n",
    "Add code to the following cell to swap variables `a` and `b` (so that `a` refers to the object previously referred to by `b` and vice versa)."
   ]
  },
  {
   "cell_type": "code",
   "execution_count": 7,
   "id": "4f2b64ee",
   "metadata": {
    "execution": {
     "iopub.execute_input": "2023-02-14T14:48:47.769446Z",
     "iopub.status.busy": "2023-02-14T14:48:47.768722Z",
     "iopub.status.idle": "2023-02-14T14:48:47.777614Z",
     "shell.execute_reply": "2023-02-14T14:48:47.776751Z"
    },
    "papermill": {
     "duration": 0.020562,
     "end_time": "2023-02-14T14:48:47.779980",
     "exception": false,
     "start_time": "2023-02-14T14:48:47.759418",
     "status": "completed"
    },
    "tags": []
   },
   "outputs": [
    {
     "data": {
      "application/javascript": [
       "parent.postMessage({\"jupyterEvent\": \"custom.exercise_interaction\", \"data\": {\"outcomeType\": 1, \"valueTowardsCompletion\": 0.25, \"interactionType\": 1, \"questionType\": 2, \"questionId\": \"2_VariableSwap\", \"learnToolsVersion\": \"0.3.4\", \"failureMessage\": \"\", \"exceptionClass\": \"\", \"trace\": \"\"}}, \"*\")"
      ],
      "text/plain": [
       "<IPython.core.display.Javascript object>"
      ]
     },
     "metadata": {},
     "output_type": "display_data"
    },
    {
     "data": {
      "text/markdown": [
       "<span style=\"color:#33cc33\">Correct:</span> \n",
       "\n",
       "The most straightforward solution is to use a third variable to temporarily store one of the old values. e.g.:\n",
       "\n",
       "    tmp = a\n",
       "    a = b\n",
       "    b = tmp\n",
       "\n",
       "If you've read lots of Python code, you might have seen the following trick to swap two variables in one line:\n",
       "\n",
       "    a, b = b, a\n",
       "\n",
       "We'll demystify this bit of Python magic later when we talk about *tuples*."
      ],
      "text/plain": [
       "Correct: \n",
       "\n",
       "The most straightforward solution is to use a third variable to temporarily store one of the old values. e.g.:\n",
       "\n",
       "    tmp = a\n",
       "    a = b\n",
       "    b = tmp\n",
       "\n",
       "If you've read lots of Python code, you might have seen the following trick to swap two variables in one line:\n",
       "\n",
       "    a, b = b, a\n",
       "\n",
       "We'll demystify this bit of Python magic later when we talk about *tuples*."
      ]
     },
     "metadata": {},
     "output_type": "display_data"
    }
   ],
   "source": [
    "########### Setup code - don't touch this part ######################\n",
    "# If you're curious, these are examples of lists. We'll talk about \n",
    "# them in depth a few lessons from now. For now, just know that they're\n",
    "# yet another type of Python object, like int or float.\n",
    "a = [1, 2, 3]\n",
    "b = [3, 2, 1]\n",
    "q2.store_original_ids()\n",
    "######################################################################\n",
    "\n",
    "# Your code goes here. Swap the values to which a and b refer.\n",
    "# If you get stuck, you can always uncomment one or both of the lines in\n",
    "# the next cell for a hint, or to peek at the solution.\n",
    "temporal = a\n",
    "a = b\n",
    "b = temporal\n",
    "\n",
    "######################################################################\n",
    "\n",
    "# Check your answer\n",
    "q2.check()"
   ]
  },
  {
   "cell_type": "code",
   "execution_count": 8,
   "id": "e14d9669",
   "metadata": {
    "execution": {
     "iopub.execute_input": "2023-02-14T14:48:47.799483Z",
     "iopub.status.busy": "2023-02-14T14:48:47.798636Z",
     "iopub.status.idle": "2023-02-14T14:48:47.803182Z",
     "shell.execute_reply": "2023-02-14T14:48:47.802305Z"
    },
    "papermill": {
     "duration": 0.017031,
     "end_time": "2023-02-14T14:48:47.805769",
     "exception": false,
     "start_time": "2023-02-14T14:48:47.788738",
     "status": "completed"
    },
    "tags": []
   },
   "outputs": [],
   "source": [
    "#q2.hint()"
   ]
  },
  {
   "cell_type": "code",
   "execution_count": 9,
   "id": "1755d7d1",
   "metadata": {
    "execution": {
     "iopub.execute_input": "2023-02-14T14:48:47.824514Z",
     "iopub.status.busy": "2023-02-14T14:48:47.824035Z",
     "iopub.status.idle": "2023-02-14T14:48:47.828732Z",
     "shell.execute_reply": "2023-02-14T14:48:47.827118Z"
    },
    "papermill": {
     "duration": 0.01772,
     "end_time": "2023-02-14T14:48:47.831436",
     "exception": false,
     "start_time": "2023-02-14T14:48:47.813716",
     "status": "completed"
    },
    "tags": []
   },
   "outputs": [],
   "source": [
    "#q2.solution()"
   ]
  },
  {
   "cell_type": "markdown",
   "id": "1b2875a3",
   "metadata": {
    "papermill": {
     "duration": 0.007524,
     "end_time": "2023-02-14T14:48:47.847060",
     "exception": false,
     "start_time": "2023-02-14T14:48:47.839536",
     "status": "completed"
    },
    "tags": []
   },
   "source": [
    "<hr/>\n",
    "\n",
    "# 3a.\n",
    "\n",
    "Add parentheses to the following expression so that it evaluates to 1."
   ]
  },
  {
   "cell_type": "code",
   "execution_count": 10,
   "id": "dc698bf2",
   "metadata": {
    "execution": {
     "iopub.execute_input": "2023-02-14T14:48:47.864693Z",
     "iopub.status.busy": "2023-02-14T14:48:47.864267Z",
     "iopub.status.idle": "2023-02-14T14:48:47.871405Z",
     "shell.execute_reply": "2023-02-14T14:48:47.870254Z"
    },
    "papermill": {
     "duration": 0.018918,
     "end_time": "2023-02-14T14:48:47.874019",
     "exception": false,
     "start_time": "2023-02-14T14:48:47.855101",
     "status": "completed"
    },
    "tags": []
   },
   "outputs": [
    {
     "data": {
      "text/plain": [
       "1"
      ]
     },
     "execution_count": 10,
     "metadata": {},
     "output_type": "execute_result"
    }
   ],
   "source": [
    "(5 - 3 )// 2"
   ]
  },
  {
   "cell_type": "code",
   "execution_count": 11,
   "id": "425159fc",
   "metadata": {
    "execution": {
     "iopub.execute_input": "2023-02-14T14:48:47.892864Z",
     "iopub.status.busy": "2023-02-14T14:48:47.892448Z",
     "iopub.status.idle": "2023-02-14T14:48:47.897594Z",
     "shell.execute_reply": "2023-02-14T14:48:47.896290Z"
    },
    "papermill": {
     "duration": 0.017427,
     "end_time": "2023-02-14T14:48:47.899953",
     "exception": false,
     "start_time": "2023-02-14T14:48:47.882526",
     "status": "completed"
    },
    "tags": []
   },
   "outputs": [],
   "source": [
    "#q3.a.hint()"
   ]
  },
  {
   "cell_type": "code",
   "execution_count": 12,
   "id": "1ffc2320",
   "metadata": {
    "execution": {
     "iopub.execute_input": "2023-02-14T14:48:47.918012Z",
     "iopub.status.busy": "2023-02-14T14:48:47.917569Z",
     "iopub.status.idle": "2023-02-14T14:48:47.926836Z",
     "shell.execute_reply": "2023-02-14T14:48:47.925649Z"
    },
    "papermill": {
     "duration": 0.021317,
     "end_time": "2023-02-14T14:48:47.929260",
     "exception": false,
     "start_time": "2023-02-14T14:48:47.907943",
     "status": "completed"
    },
    "tags": []
   },
   "outputs": [
    {
     "data": {
      "application/javascript": [
       "parent.postMessage({\"jupyterEvent\": \"custom.exercise_interaction\", \"data\": {\"interactionType\": 3, \"questionType\": 4, \"questionId\": \"3.1_ArithmeticParensEasy\", \"learnToolsVersion\": \"0.3.4\", \"valueTowardsCompletion\": 0.0, \"failureMessage\": \"\", \"exceptionClass\": \"\", \"trace\": \"\", \"outcomeType\": 4}}, \"*\")"
      ],
      "text/plain": [
       "<IPython.core.display.Javascript object>"
      ]
     },
     "metadata": {},
     "output_type": "display_data"
    },
    {
     "data": {
      "text/markdown": [
       "<span style=\"color:#33cc99\">Solution:</span> \n",
       "```python\n",
       "(5 - 3) // 2\n",
       "```"
      ],
      "text/plain": [
       "Solution: \n",
       "```python\n",
       "(5 - 3) // 2\n",
       "```"
      ]
     },
     "metadata": {},
     "output_type": "display_data"
    }
   ],
   "source": [
    "# Check your answer (Run this code cell to receive credit!)\n",
    "q3.a.solution()"
   ]
  },
  {
   "cell_type": "markdown",
   "id": "f85bb813",
   "metadata": {
    "papermill": {
     "duration": 0.008042,
     "end_time": "2023-02-14T14:48:47.945985",
     "exception": false,
     "start_time": "2023-02-14T14:48:47.937943",
     "status": "completed"
    },
    "tags": []
   },
   "source": [
    "# 3b.  <span title=\"A bit spicy\" style=\"color: darkgreen \">🌶️</span>\n",
    "\n",
    "<small>Questions, like this one, marked a spicy pepper are a bit harder.</small>\n",
    "\n",
    "Add parentheses to the following expression so that it evaluates to 0."
   ]
  },
  {
   "cell_type": "code",
   "execution_count": 13,
   "id": "d1adc253",
   "metadata": {
    "execution": {
     "iopub.execute_input": "2023-02-14T14:48:47.965246Z",
     "iopub.status.busy": "2023-02-14T14:48:47.964438Z",
     "iopub.status.idle": "2023-02-14T14:48:47.972571Z",
     "shell.execute_reply": "2023-02-14T14:48:47.971399Z"
    },
    "papermill": {
     "duration": 0.020657,
     "end_time": "2023-02-14T14:48:47.974993",
     "exception": false,
     "start_time": "2023-02-14T14:48:47.954336",
     "status": "completed"
    },
    "tags": []
   },
   "outputs": [
    {
     "data": {
      "text/plain": [
       "0"
      ]
     },
     "execution_count": 13,
     "metadata": {},
     "output_type": "execute_result"
    }
   ],
   "source": [
    "8 - (3 * 2) - (1 + 1)"
   ]
  },
  {
   "cell_type": "code",
   "execution_count": 14,
   "id": "94cf33a5",
   "metadata": {
    "execution": {
     "iopub.execute_input": "2023-02-14T14:48:47.993522Z",
     "iopub.status.busy": "2023-02-14T14:48:47.993071Z",
     "iopub.status.idle": "2023-02-14T14:48:47.998178Z",
     "shell.execute_reply": "2023-02-14T14:48:47.996792Z"
    },
    "papermill": {
     "duration": 0.017392,
     "end_time": "2023-02-14T14:48:48.000756",
     "exception": false,
     "start_time": "2023-02-14T14:48:47.983364",
     "status": "completed"
    },
    "tags": []
   },
   "outputs": [],
   "source": [
    "#q3.b.hint()"
   ]
  },
  {
   "cell_type": "code",
   "execution_count": 15,
   "id": "f743fac2",
   "metadata": {
    "execution": {
     "iopub.execute_input": "2023-02-14T14:48:48.020864Z",
     "iopub.status.busy": "2023-02-14T14:48:48.019907Z",
     "iopub.status.idle": "2023-02-14T14:48:48.028610Z",
     "shell.execute_reply": "2023-02-14T14:48:48.027726Z"
    },
    "papermill": {
     "duration": 0.020869,
     "end_time": "2023-02-14T14:48:48.030923",
     "exception": false,
     "start_time": "2023-02-14T14:48:48.010054",
     "status": "completed"
    },
    "tags": []
   },
   "outputs": [
    {
     "data": {
      "application/javascript": [
       "parent.postMessage({\"jupyterEvent\": \"custom.exercise_interaction\", \"data\": {\"interactionType\": 3, \"questionType\": 4, \"questionId\": \"3.2_ArithmeticParensHard\", \"learnToolsVersion\": \"0.3.4\", \"valueTowardsCompletion\": 0.0, \"failureMessage\": \"\", \"exceptionClass\": \"\", \"trace\": \"\", \"outcomeType\": 4}}, \"*\")"
      ],
      "text/plain": [
       "<IPython.core.display.Javascript object>"
      ]
     },
     "metadata": {},
     "output_type": "display_data"
    },
    {
     "data": {
      "text/markdown": [
       "<span style=\"color:#33cc99\">Solution:</span> `(8 - 3) * (2 - (1 + 1))` is one solution. There may be others."
      ],
      "text/plain": [
       "Solution: `(8 - 3) * (2 - (1 + 1))` is one solution. There may be others."
      ]
     },
     "metadata": {},
     "output_type": "display_data"
    }
   ],
   "source": [
    "# Check your answer (Run this code cell to receive credit!)\n",
    "q3.b.solution()"
   ]
  },
  {
   "cell_type": "markdown",
   "id": "a4360b09",
   "metadata": {
    "papermill": {
     "duration": 0.008535,
     "end_time": "2023-02-14T14:48:48.048291",
     "exception": false,
     "start_time": "2023-02-14T14:48:48.039756",
     "status": "completed"
    },
    "tags": []
   },
   "source": [
    "<hr/>\n",
    "\n",
    "# 4. \n",
    "Alice, Bob and Carol have agreed to pool their Halloween candy and split it evenly among themselves.\n",
    "For the sake of their friendship, any candies left over will be smashed. For example, if they collectively\n",
    "bring home 91 candies, they'll take 30 each and smash 1.\n",
    "\n",
    "Write an arithmetic expression below to calculate how many candies they must smash for a given haul."
   ]
  },
  {
   "cell_type": "code",
   "execution_count": 16,
   "id": "3c32d107",
   "metadata": {
    "execution": {
     "iopub.execute_input": "2023-02-14T14:48:48.067688Z",
     "iopub.status.busy": "2023-02-14T14:48:48.067281Z",
     "iopub.status.idle": "2023-02-14T14:48:48.079929Z",
     "shell.execute_reply": "2023-02-14T14:48:48.078386Z"
    },
    "papermill": {
     "duration": 0.025617,
     "end_time": "2023-02-14T14:48:48.082805",
     "exception": false,
     "start_time": "2023-02-14T14:48:48.057188",
     "status": "completed"
    },
    "tags": []
   },
   "outputs": [
    {
     "data": {
      "application/javascript": [
       "parent.postMessage({\"jupyterEvent\": \"custom.exercise_interaction\", \"data\": {\"outcomeType\": 1, \"valueTowardsCompletion\": 0.25, \"interactionType\": 1, \"questionType\": 1, \"questionId\": \"4_CandySplitting\", \"learnToolsVersion\": \"0.3.4\", \"failureMessage\": \"\", \"exceptionClass\": \"\", \"trace\": \"\"}}, \"*\")"
      ],
      "text/plain": [
       "<IPython.core.display.Javascript object>"
      ]
     },
     "metadata": {},
     "output_type": "display_data"
    },
    {
     "data": {
      "text/markdown": [
       "<span style=\"color:#33cc33\">Correct</span>"
      ],
      "text/plain": [
       "Correct"
      ]
     },
     "metadata": {},
     "output_type": "display_data"
    }
   ],
   "source": [
    "# Variables representing the number of candies collected by alice, bob, and carol\n",
    "alice_candies = 121\n",
    "bob_candies = 77\n",
    "carol_candies = 109\n",
    "\n",
    "# Your code goes here! Replace the right-hand side of this assignment with an expression\n",
    "# involving alice_candies, bob_candies, and carol_candies\n",
    "\n",
    "sum = alice_candies + bob_candies + carol_candies\n",
    "to_smash = sum - ((sum // 3) * 3 )\n",
    "\n",
    "\n",
    "# Check your answer\n",
    "q4.check()"
   ]
  },
  {
   "cell_type": "code",
   "execution_count": 17,
   "id": "3533dbe6",
   "metadata": {
    "execution": {
     "iopub.execute_input": "2023-02-14T14:48:48.102759Z",
     "iopub.status.busy": "2023-02-14T14:48:48.102358Z",
     "iopub.status.idle": "2023-02-14T14:48:48.108227Z",
     "shell.execute_reply": "2023-02-14T14:48:48.106268Z"
    },
    "papermill": {
     "duration": 0.019726,
     "end_time": "2023-02-14T14:48:48.111470",
     "exception": false,
     "start_time": "2023-02-14T14:48:48.091744",
     "status": "completed"
    },
    "tags": []
   },
   "outputs": [],
   "source": [
    "#q4.hint()\n",
    "#q4.solution()"
   ]
  },
  {
   "cell_type": "markdown",
   "id": "b09068dc",
   "metadata": {
    "papermill": {
     "duration": 0.008636,
     "end_time": "2023-02-14T14:48:48.129333",
     "exception": false,
     "start_time": "2023-02-14T14:48:48.120697",
     "status": "completed"
    },
    "tags": []
   },
   "source": [
    "# Keep Going\n",
    "\n",
    "Next up, you'll **[learn to write new functions and understand functions others write](https://www.kaggle.com/colinmorris/functions-and-getting-help)**. This will make you at least 10 times more productive as a Python programmer. "
   ]
  },
  {
   "cell_type": "markdown",
   "id": "cea5be68",
   "metadata": {
    "papermill": {
     "duration": 0.008405,
     "end_time": "2023-02-14T14:48:48.146980",
     "exception": false,
     "start_time": "2023-02-14T14:48:48.138575",
     "status": "completed"
    },
    "tags": []
   },
   "source": [
    "---\n",
    "\n",
    "\n",
    "\n",
    "\n",
    "*Have questions or comments? Visit the [course discussion forum](https://www.kaggle.com/learn/python/discussion) to chat with other learners.*"
   ]
  }
 ],
 "metadata": {
  "kernelspec": {
   "display_name": "Python 3",
   "language": "python",
   "name": "python3"
  },
  "language_info": {
   "codemirror_mode": {
    "name": "ipython",
    "version": 3
   },
   "file_extension": ".py",
   "mimetype": "text/x-python",
   "name": "python",
   "nbconvert_exporter": "python",
   "pygments_lexer": "ipython3",
   "version": "3.7.12"
  },
  "papermill": {
   "default_parameters": {},
   "duration": 13.268534,
   "end_time": "2023-02-14T14:48:50.924248",
   "environment_variables": {},
   "exception": null,
   "input_path": "__notebook__.ipynb",
   "output_path": "__notebook__.ipynb",
   "parameters": {},
   "start_time": "2023-02-14T14:48:37.655714",
   "version": "2.3.4"
  }
 },
 "nbformat": 4,
 "nbformat_minor": 5
}
