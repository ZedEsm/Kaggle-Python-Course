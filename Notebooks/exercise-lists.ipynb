{
 "cells": [
  {
   "cell_type": "markdown",
   "id": "9dc8d003",
   "metadata": {
    "papermill": {
     "duration": 0.008867,
     "end_time": "2023-02-15T17:28:28.682301",
     "exception": false,
     "start_time": "2023-02-15T17:28:28.673434",
     "status": "completed"
    },
    "tags": []
   },
   "source": [
    "**This notebook is an exercise in the [Python](https://www.kaggle.com/learn/python) course.  You can reference the tutorial at [this link](https://www.kaggle.com/colinmorris/lists).**\n",
    "\n",
    "---\n"
   ]
  },
  {
   "cell_type": "markdown",
   "id": "45c8bd74",
   "metadata": {
    "papermill": {
     "duration": 0.004687,
     "end_time": "2023-02-15T17:28:28.692185",
     "exception": false,
     "start_time": "2023-02-15T17:28:28.687498",
     "status": "completed"
    },
    "tags": []
   },
   "source": [
    "Things get more interesting with lists. You'll apply your new knowledge to solve the questions below. Remember to run the following cell first."
   ]
  },
  {
   "cell_type": "code",
   "execution_count": 1,
   "id": "817e4f26",
   "metadata": {
    "execution": {
     "iopub.execute_input": "2023-02-15T17:28:28.704309Z",
     "iopub.status.busy": "2023-02-15T17:28:28.703763Z",
     "iopub.status.idle": "2023-02-15T17:28:28.755908Z",
     "shell.execute_reply": "2023-02-15T17:28:28.754547Z"
    },
    "papermill": {
     "duration": 0.061499,
     "end_time": "2023-02-15T17:28:28.758780",
     "exception": false,
     "start_time": "2023-02-15T17:28:28.697281",
     "status": "completed"
    },
    "tags": []
   },
   "outputs": [
    {
     "name": "stdout",
     "output_type": "stream",
     "text": [
      "Setup complete.\n"
     ]
    }
   ],
   "source": [
    "from learntools.core import binder; binder.bind(globals())\n",
    "from learntools.python.ex4 import *\n",
    "print('Setup complete.')"
   ]
  },
  {
   "cell_type": "markdown",
   "id": "39d628d6",
   "metadata": {
    "papermill": {
     "duration": 0.004599,
     "end_time": "2023-02-15T17:28:28.768543",
     "exception": false,
     "start_time": "2023-02-15T17:28:28.763944",
     "status": "completed"
    },
    "tags": []
   },
   "source": [
    "# 1.\n",
    "\n",
    "Complete the function below according to its docstring."
   ]
  },
  {
   "cell_type": "code",
   "execution_count": 2,
   "id": "623e63db",
   "metadata": {
    "execution": {
     "iopub.execute_input": "2023-02-15T17:28:28.779943Z",
     "iopub.status.busy": "2023-02-15T17:28:28.779501Z",
     "iopub.status.idle": "2023-02-15T17:28:28.791372Z",
     "shell.execute_reply": "2023-02-15T17:28:28.790477Z"
    },
    "papermill": {
     "duration": 0.020318,
     "end_time": "2023-02-15T17:28:28.793635",
     "exception": false,
     "start_time": "2023-02-15T17:28:28.773317",
     "status": "completed"
    },
    "tags": []
   },
   "outputs": [
    {
     "data": {
      "application/javascript": [
       "parent.postMessage({\"jupyterEvent\": \"custom.exercise_interaction\", \"data\": {\"outcomeType\": 1, \"valueTowardsCompletion\": 0.2, \"interactionType\": 1, \"questionType\": 2, \"questionId\": \"1_SelectSecondItem\", \"learnToolsVersion\": \"0.3.4\", \"failureMessage\": \"\", \"exceptionClass\": \"\", \"trace\": \"\"}}, \"*\")"
      ],
      "text/plain": [
       "<IPython.core.display.Javascript object>"
      ]
     },
     "metadata": {},
     "output_type": "display_data"
    },
    {
     "data": {
      "text/markdown": [
       "<span style=\"color:#33cc33\">Correct</span>"
      ],
      "text/plain": [
       "Correct"
      ]
     },
     "metadata": {},
     "output_type": "display_data"
    }
   ],
   "source": [
    "def select_second(L):\n",
    "    \"\"\"Return the second element of the given list. If the list has no second\n",
    "    element, return None.\n",
    "    \"\"\"\n",
    "    if(len(L)<2):\n",
    "        return None\n",
    "    return L[1]\n",
    "    pass\n",
    "\n",
    "# Check your answer\n",
    "q1.check()"
   ]
  },
  {
   "cell_type": "code",
   "execution_count": 3,
   "id": "e3551a4b",
   "metadata": {
    "execution": {
     "iopub.execute_input": "2023-02-15T17:28:28.806043Z",
     "iopub.status.busy": "2023-02-15T17:28:28.805607Z",
     "iopub.status.idle": "2023-02-15T17:28:28.810286Z",
     "shell.execute_reply": "2023-02-15T17:28:28.808947Z"
    },
    "papermill": {
     "duration": 0.013983,
     "end_time": "2023-02-15T17:28:28.812916",
     "exception": false,
     "start_time": "2023-02-15T17:28:28.798933",
     "status": "completed"
    },
    "tags": []
   },
   "outputs": [],
   "source": [
    "#q1.hint()\n",
    "#q1.solution()"
   ]
  },
  {
   "cell_type": "markdown",
   "id": "d9ff314f",
   "metadata": {
    "papermill": {
     "duration": 0.004864,
     "end_time": "2023-02-15T17:28:28.823004",
     "exception": false,
     "start_time": "2023-02-15T17:28:28.818140",
     "status": "completed"
    },
    "tags": []
   },
   "source": [
    "# 2.\n",
    "\n",
    "You are analyzing sports teams.  Members of each team are stored in a list. The Coach is the first name in the list, the captain is the second name in the list, and other players are listed after that. \n",
    "These lists are stored in another list, which starts with the best team and proceeds through the list to the worst team last.  Complete the function below to select the **captain** of the worst team."
   ]
  },
  {
   "cell_type": "code",
   "execution_count": 4,
   "id": "27509d8e",
   "metadata": {
    "execution": {
     "iopub.execute_input": "2023-02-15T17:28:28.834986Z",
     "iopub.status.busy": "2023-02-15T17:28:28.834580Z",
     "iopub.status.idle": "2023-02-15T17:28:28.845410Z",
     "shell.execute_reply": "2023-02-15T17:28:28.844108Z"
    },
    "papermill": {
     "duration": 0.019791,
     "end_time": "2023-02-15T17:28:28.847946",
     "exception": false,
     "start_time": "2023-02-15T17:28:28.828155",
     "status": "completed"
    },
    "tags": []
   },
   "outputs": [
    {
     "data": {
      "application/javascript": [
       "parent.postMessage({\"jupyterEvent\": \"custom.exercise_interaction\", \"data\": {\"outcomeType\": 1, \"valueTowardsCompletion\": 0.2, \"interactionType\": 1, \"questionType\": 2, \"questionId\": \"2_LosingTeamCaptain\", \"learnToolsVersion\": \"0.3.4\", \"failureMessage\": \"\", \"exceptionClass\": \"\", \"trace\": \"\"}}, \"*\")"
      ],
      "text/plain": [
       "<IPython.core.display.Javascript object>"
      ]
     },
     "metadata": {},
     "output_type": "display_data"
    },
    {
     "data": {
      "text/markdown": [
       "<span style=\"color:#33cc33\">Correct</span>"
      ],
      "text/plain": [
       "Correct"
      ]
     },
     "metadata": {},
     "output_type": "display_data"
    }
   ],
   "source": [
    "def losing_team_captain(teams):\n",
    "    \"\"\"Given a list of teams, where each team is a list of names, return the 2nd player (captain)\n",
    "    from the last listed team\n",
    "    \"\"\"\n",
    "    return teams[-1][1]\n",
    "    pass\n",
    "\n",
    "# Check your answer\n",
    "q2.check()"
   ]
  },
  {
   "cell_type": "code",
   "execution_count": 5,
   "id": "6b26d55e",
   "metadata": {
    "execution": {
     "iopub.execute_input": "2023-02-15T17:28:28.860931Z",
     "iopub.status.busy": "2023-02-15T17:28:28.859978Z",
     "iopub.status.idle": "2023-02-15T17:28:28.865059Z",
     "shell.execute_reply": "2023-02-15T17:28:28.863860Z"
    },
    "papermill": {
     "duration": 0.01406,
     "end_time": "2023-02-15T17:28:28.867390",
     "exception": false,
     "start_time": "2023-02-15T17:28:28.853330",
     "status": "completed"
    },
    "tags": []
   },
   "outputs": [],
   "source": [
    "#q2.hint()\n",
    "#q2.solution()"
   ]
  },
  {
   "cell_type": "markdown",
   "id": "8c56ce9d",
   "metadata": {
    "papermill": {
     "duration": 0.005139,
     "end_time": "2023-02-15T17:28:28.878115",
     "exception": false,
     "start_time": "2023-02-15T17:28:28.872976",
     "status": "completed"
    },
    "tags": []
   },
   "source": [
    "# 3.\n",
    "\n",
    "The next iteration of Mario Kart will feature an extra-infuriating new item, the *Purple Shell*. When used, it warps the last place racer into first place and the first place racer into last place. Complete the function below to implement the Purple Shell's effect."
   ]
  },
  {
   "cell_type": "code",
   "execution_count": 6,
   "id": "93e48b62",
   "metadata": {
    "execution": {
     "iopub.execute_input": "2023-02-15T17:28:28.890893Z",
     "iopub.status.busy": "2023-02-15T17:28:28.890414Z",
     "iopub.status.idle": "2023-02-15T17:28:28.901177Z",
     "shell.execute_reply": "2023-02-15T17:28:28.899858Z"
    },
    "papermill": {
     "duration": 0.02,
     "end_time": "2023-02-15T17:28:28.903613",
     "exception": false,
     "start_time": "2023-02-15T17:28:28.883613",
     "status": "completed"
    },
    "tags": []
   },
   "outputs": [
    {
     "data": {
      "application/javascript": [
       "parent.postMessage({\"jupyterEvent\": \"custom.exercise_interaction\", \"data\": {\"outcomeType\": 1, \"valueTowardsCompletion\": 0.2, \"interactionType\": 1, \"questionType\": 2, \"questionId\": \"3_PurpleShell\", \"learnToolsVersion\": \"0.3.4\", \"failureMessage\": \"\", \"exceptionClass\": \"\", \"trace\": \"\"}}, \"*\")"
      ],
      "text/plain": [
       "<IPython.core.display.Javascript object>"
      ]
     },
     "metadata": {},
     "output_type": "display_data"
    },
    {
     "data": {
      "text/markdown": [
       "<span style=\"color:#33cc33\">Correct</span>"
      ],
      "text/plain": [
       "Correct"
      ]
     },
     "metadata": {},
     "output_type": "display_data"
    }
   ],
   "source": [
    "def purple_shell(racers):\n",
    "    \"\"\"Given a list of racers, set the first place racer (at the front of the list) to last\n",
    "    place and vice versa.\n",
    "    \n",
    "    >>> r = [\"Mario\", \"Bowser\", \"Luigi\"]\n",
    "    >>> purple_shell(r)\n",
    "    >>> r\n",
    "    [\"Luigi\", \"Bowser\", \"Mario\"]\n",
    "    \"\"\"\n",
    "    racers[0],racers[-1] = racers[-1],racers[0]     \n",
    "    pass\n",
    "\n",
    "# Check your answer\n",
    "q3.check()"
   ]
  },
  {
   "cell_type": "code",
   "execution_count": 7,
   "id": "14bd8cb3",
   "metadata": {
    "execution": {
     "iopub.execute_input": "2023-02-15T17:28:28.917173Z",
     "iopub.status.busy": "2023-02-15T17:28:28.916739Z",
     "iopub.status.idle": "2023-02-15T17:28:28.920486Z",
     "shell.execute_reply": "2023-02-15T17:28:28.919600Z"
    },
    "papermill": {
     "duration": 0.013257,
     "end_time": "2023-02-15T17:28:28.922684",
     "exception": false,
     "start_time": "2023-02-15T17:28:28.909427",
     "status": "completed"
    },
    "tags": []
   },
   "outputs": [],
   "source": [
    "#q3.hint()\n",
    "#q3.solution()"
   ]
  },
  {
   "cell_type": "markdown",
   "id": "8ab063d5",
   "metadata": {
    "papermill": {
     "duration": 0.005922,
     "end_time": "2023-02-15T17:28:28.934385",
     "exception": false,
     "start_time": "2023-02-15T17:28:28.928463",
     "status": "completed"
    },
    "tags": []
   },
   "source": [
    "# 4.\n",
    "\n",
    "What are the lengths of the following lists? Fill in the variable `lengths` with your predictions. (Try to make a prediction for each list *without* just calling `len()` on it.)"
   ]
  },
  {
   "cell_type": "code",
   "execution_count": 8,
   "id": "bd703c05",
   "metadata": {
    "execution": {
     "iopub.execute_input": "2023-02-15T17:28:28.948440Z",
     "iopub.status.busy": "2023-02-15T17:28:28.947783Z",
     "iopub.status.idle": "2023-02-15T17:28:28.959535Z",
     "shell.execute_reply": "2023-02-15T17:28:28.958618Z"
    },
    "papermill": {
     "duration": 0.0215,
     "end_time": "2023-02-15T17:28:28.961820",
     "exception": false,
     "start_time": "2023-02-15T17:28:28.940320",
     "status": "completed"
    },
    "tags": []
   },
   "outputs": [
    {
     "data": {
      "application/javascript": [
       "parent.postMessage({\"jupyterEvent\": \"custom.exercise_interaction\", \"data\": {\"outcomeType\": 1, \"valueTowardsCompletion\": 0.2, \"interactionType\": 1, \"questionType\": 1, \"questionId\": \"4_UnderstandLen\", \"learnToolsVersion\": \"0.3.4\", \"failureMessage\": \"\", \"exceptionClass\": \"\", \"trace\": \"\"}}, \"*\")"
      ],
      "text/plain": [
       "<IPython.core.display.Javascript object>"
      ]
     },
     "metadata": {},
     "output_type": "display_data"
    },
    {
     "data": {
      "text/markdown": [
       "<span style=\"color:#33cc33\">Correct:</span> \n",
       "\n",
       "\n",
       "- a: There are three items in this list. Nothing tricky yet.\n",
       "- b: The list `[2, 3]` counts as a single item. It has one item before it. So we have 2 items in the list\n",
       "- c: The empty list has 0 items\n",
       "- d: The expression is the same as the list `[2, 3]`, which has length 2."
      ],
      "text/plain": [
       "Correct: \n",
       "\n",
       "\n",
       "- a: There are three items in this list. Nothing tricky yet.\n",
       "- b: The list `[2, 3]` counts as a single item. It has one item before it. So we have 2 items in the list\n",
       "- c: The empty list has 0 items\n",
       "- d: The expression is the same as the list `[2, 3]`, which has length 2."
      ]
     },
     "metadata": {},
     "output_type": "display_data"
    }
   ],
   "source": [
    "a = [1, 2, 3]\n",
    "b = [1, [2, 3]]\n",
    "c = []\n",
    "d = [1, 2, 3][1:]\n",
    "\n",
    "# Put your predictions in the list below. Lengths should contain 4 numbers, the\n",
    "# first being the length of a, the second being the length of b and so on.\n",
    "def tolesh(input):\n",
    "    count = 0\n",
    "    for x in input:\n",
    "        count+=1\n",
    "    return count\n",
    "lengths = []\n",
    "lengths.append(tolesh(a))\n",
    "lengths.append(tolesh(b))\n",
    "lengths.append(tolesh(c))\n",
    "lengths.append(tolesh(d))\n",
    "\n",
    "# Check your answer\n",
    "q4.check()"
   ]
  },
  {
   "cell_type": "code",
   "execution_count": 9,
   "id": "a9adc3e7",
   "metadata": {
    "execution": {
     "iopub.execute_input": "2023-02-15T17:28:28.976768Z",
     "iopub.status.busy": "2023-02-15T17:28:28.976281Z",
     "iopub.status.idle": "2023-02-15T17:28:28.981562Z",
     "shell.execute_reply": "2023-02-15T17:28:28.980046Z"
    },
    "papermill": {
     "duration": 0.016012,
     "end_time": "2023-02-15T17:28:28.984186",
     "exception": false,
     "start_time": "2023-02-15T17:28:28.968174",
     "status": "completed"
    },
    "tags": []
   },
   "outputs": [],
   "source": [
    "# line below provides some explanation\n",
    "#q4.solution()"
   ]
  },
  {
   "cell_type": "markdown",
   "id": "20e6965d",
   "metadata": {
    "papermill": {
     "duration": 0.006115,
     "end_time": "2023-02-15T17:28:28.996978",
     "exception": false,
     "start_time": "2023-02-15T17:28:28.990863",
     "status": "completed"
    },
    "tags": []
   },
   "source": [
    "# 5. <span title=\"A bit spicy\" style=\"color: darkgreen \">🌶️</span>\n",
    "\n",
    "We're using lists to record people who attended our party and what order they arrived in. For example, the following list represents a party with 7 guests, in which Adela showed up first and Ford was the last to arrive:\n",
    "\n",
    "    party_attendees = ['Adela', 'Fleda', 'Owen', 'May', 'Mona', 'Gilbert', 'Ford']\n",
    "\n",
    "A guest is considered 'fashionably late' if they arrived after at least half of the party's guests. However, they must not be the very last guest (that's taking it too far). In the above example, Mona and Gilbert are the only guests who were fashionably late.\n",
    "\n",
    "Complete the function below which takes a list of party attendees as well as a person, and tells us whether that person is fashionably late."
   ]
  },
  {
   "cell_type": "code",
   "execution_count": 10,
   "id": "d1b44027",
   "metadata": {
    "execution": {
     "iopub.execute_input": "2023-02-15T17:28:29.012514Z",
     "iopub.status.busy": "2023-02-15T17:28:29.011257Z",
     "iopub.status.idle": "2023-02-15T17:28:29.022850Z",
     "shell.execute_reply": "2023-02-15T17:28:29.021484Z"
    },
    "papermill": {
     "duration": 0.021789,
     "end_time": "2023-02-15T17:28:29.025375",
     "exception": false,
     "start_time": "2023-02-15T17:28:29.003586",
     "status": "completed"
    },
    "tags": []
   },
   "outputs": [
    {
     "data": {
      "application/javascript": [
       "parent.postMessage({\"jupyterEvent\": \"custom.exercise_interaction\", \"data\": {\"outcomeType\": 1, \"valueTowardsCompletion\": 0.2, \"interactionType\": 1, \"questionType\": 2, \"questionId\": \"5_FashionablyLate\", \"learnToolsVersion\": \"0.3.4\", \"failureMessage\": \"\", \"exceptionClass\": \"\", \"trace\": \"\"}}, \"*\")"
      ],
      "text/plain": [
       "<IPython.core.display.Javascript object>"
      ]
     },
     "metadata": {},
     "output_type": "display_data"
    },
    {
     "data": {
      "text/markdown": [
       "<span style=\"color:#33cc33\">Correct</span>"
      ],
      "text/plain": [
       "Correct"
      ]
     },
     "metadata": {},
     "output_type": "display_data"
    }
   ],
   "source": [
    "def fashionably_late(arrivals, name):\n",
    "    \"\"\"Given an ordered list of arrivals to the party and a name, return whether the guest with that\n",
    "    name was fashionably late.\n",
    "    \"\"\"\n",
    "    return (arrivals.index(name)>=len(arrivals)/2) and  arrivals.index(name)!= len(arrivals) - 1\n",
    "   \n",
    "    pass\n",
    "\n",
    "# Check your answer\n",
    "q5.check()"
   ]
  },
  {
   "cell_type": "code",
   "execution_count": 11,
   "id": "1348a618",
   "metadata": {
    "execution": {
     "iopub.execute_input": "2023-02-15T17:28:29.040495Z",
     "iopub.status.busy": "2023-02-15T17:28:29.040045Z",
     "iopub.status.idle": "2023-02-15T17:28:29.045080Z",
     "shell.execute_reply": "2023-02-15T17:28:29.043857Z"
    },
    "papermill": {
     "duration": 0.015503,
     "end_time": "2023-02-15T17:28:29.047439",
     "exception": false,
     "start_time": "2023-02-15T17:28:29.031936",
     "status": "completed"
    },
    "tags": []
   },
   "outputs": [],
   "source": [
    "#q5.hint()\n",
    "#q5.solution()"
   ]
  },
  {
   "cell_type": "markdown",
   "id": "e0fd21e4",
   "metadata": {
    "papermill": {
     "duration": 0.006269,
     "end_time": "2023-02-15T17:28:29.060311",
     "exception": false,
     "start_time": "2023-02-15T17:28:29.054042",
     "status": "completed"
    },
    "tags": []
   },
   "source": [
    "# Keep Going\n",
    "\n",
    "That's it for lists and tuples! Now you have the baseline knowledge to **[learn about loops](https://www.kaggle.com/colinmorris/loops-and-list-comprehensions)**, which is where lists and tuples get really interesting. "
   ]
  },
  {
   "cell_type": "markdown",
   "id": "61620278",
   "metadata": {
    "papermill": {
     "duration": 0.006511,
     "end_time": "2023-02-15T17:28:29.073419",
     "exception": false,
     "start_time": "2023-02-15T17:28:29.066908",
     "status": "completed"
    },
    "tags": []
   },
   "source": [
    "---\n",
    "\n",
    "\n",
    "\n",
    "\n",
    "*Have questions or comments? Visit the [course discussion forum](https://www.kaggle.com/learn/python/discussion) to chat with other learners.*"
   ]
  }
 ],
 "metadata": {
  "kernelspec": {
   "display_name": "Python 3",
   "language": "python",
   "name": "python3"
  },
  "language_info": {
   "codemirror_mode": {
    "name": "ipython",
    "version": 3
   },
   "file_extension": ".py",
   "mimetype": "text/x-python",
   "name": "python",
   "nbconvert_exporter": "python",
   "pygments_lexer": "ipython3",
   "version": "3.7.12"
  },
  "papermill": {
   "default_parameters": {},
   "duration": 11.758401,
   "end_time": "2023-02-15T17:28:29.804182",
   "environment_variables": {},
   "exception": null,
   "input_path": "__notebook__.ipynb",
   "output_path": "__notebook__.ipynb",
   "parameters": {},
   "start_time": "2023-02-15T17:28:18.045781",
   "version": "2.3.4"
  }
 },
 "nbformat": 4,
 "nbformat_minor": 5
}
