{
 "cells": [
  {
   "cell_type": "markdown",
   "id": "e9e9236b",
   "metadata": {
    "papermill": {
     "duration": 0.009821,
     "end_time": "2023-02-16T13:09:49.048628",
     "exception": false,
     "start_time": "2023-02-16T13:09:49.038807",
     "status": "completed"
    },
    "tags": []
   },
   "source": [
    "**This notebook is an exercise in the [Python](https://www.kaggle.com/learn/python) course.  You can reference the tutorial at [this link](https://www.kaggle.com/colinmorris/strings-and-dictionaries).**\n",
    "\n",
    "---\n"
   ]
  },
  {
   "cell_type": "markdown",
   "id": "52e210c1",
   "metadata": {
    "papermill": {
     "duration": 0.005229,
     "end_time": "2023-02-16T13:09:49.059848",
     "exception": false,
     "start_time": "2023-02-16T13:09:49.054619",
     "status": "completed"
    },
    "tags": []
   },
   "source": [
    "You are almost done with the course. Nice job!\n",
    "\n",
    "We have a couple more interesting problems for you before you go. \n",
    "\n",
    "As always, run the setup code below before working on the questions."
   ]
  },
  {
   "cell_type": "code",
   "execution_count": 1,
   "id": "c9db87e4",
   "metadata": {
    "execution": {
     "iopub.execute_input": "2023-02-16T13:09:49.073915Z",
     "iopub.status.busy": "2023-02-16T13:09:49.073034Z",
     "iopub.status.idle": "2023-02-16T13:09:49.130424Z",
     "shell.execute_reply": "2023-02-16T13:09:49.128981Z"
    },
    "papermill": {
     "duration": 0.068336,
     "end_time": "2023-02-16T13:09:49.134013",
     "exception": false,
     "start_time": "2023-02-16T13:09:49.065677",
     "status": "completed"
    },
    "tags": []
   },
   "outputs": [
    {
     "name": "stdout",
     "output_type": "stream",
     "text": [
      "Setup complete.\n"
     ]
    }
   ],
   "source": [
    "from learntools.core import binder; binder.bind(globals())\n",
    "from learntools.python.ex6 import *\n",
    "print('Setup complete.')"
   ]
  },
  {
   "cell_type": "markdown",
   "id": "7bf40c67",
   "metadata": {
    "papermill": {
     "duration": 0.005409,
     "end_time": "2023-02-16T13:09:49.145886",
     "exception": false,
     "start_time": "2023-02-16T13:09:49.140477",
     "status": "completed"
    },
    "tags": []
   },
   "source": [
    "Let's start with a string lightning round to warm up. What are the lengths of the strings below?\n",
    "\n",
    "For each of the five strings below, predict what `len()` would return when passed that string. Use the variable `length` to record your answer, then run the cell to check whether you were right.  \n",
    "\n",
    "# 0a."
   ]
  },
  {
   "cell_type": "code",
   "execution_count": 2,
   "id": "a733035b",
   "metadata": {
    "execution": {
     "iopub.execute_input": "2023-02-16T13:09:49.158916Z",
     "iopub.status.busy": "2023-02-16T13:09:49.158470Z",
     "iopub.status.idle": "2023-02-16T13:09:49.168657Z",
     "shell.execute_reply": "2023-02-16T13:09:49.167719Z"
    },
    "papermill": {
     "duration": 0.019402,
     "end_time": "2023-02-16T13:09:49.170849",
     "exception": false,
     "start_time": "2023-02-16T13:09:49.151447",
     "status": "completed"
    },
    "tags": []
   },
   "outputs": [
    {
     "data": {
      "application/javascript": [
       "parent.postMessage({\"jupyterEvent\": \"custom.exercise_interaction\", \"data\": {\"outcomeType\": 1, \"valueTowardsCompletion\": 0.3333333333333333, \"interactionType\": 1, \"questionType\": 1, \"questionId\": \"0.1_ZA\", \"learnToolsVersion\": \"0.3.4\", \"failureMessage\": \"\", \"exceptionClass\": \"\", \"trace\": \"\"}}, \"*\")"
      ],
      "text/plain": [
       "<IPython.core.display.Javascript object>"
      ]
     },
     "metadata": {},
     "output_type": "display_data"
    },
    {
     "data": {
      "text/markdown": [
       "<span style=\"color:#33cc33\">Correct:</span> \n",
       "\n",
       "The empty string has length zero. Note that the empty string is also the only string that Python considers as False when converting to boolean."
      ],
      "text/plain": [
       "Correct: \n",
       "\n",
       "The empty string has length zero. Note that the empty string is also the only string that Python considers as False when converting to boolean."
      ]
     },
     "metadata": {},
     "output_type": "display_data"
    }
   ],
   "source": [
    "a = \"\"\n",
    "length = 0\n",
    "q0.a.check()"
   ]
  },
  {
   "cell_type": "markdown",
   "id": "593e0849",
   "metadata": {
    "papermill": {
     "duration": 0.005557,
     "end_time": "2023-02-16T13:09:49.182447",
     "exception": false,
     "start_time": "2023-02-16T13:09:49.176890",
     "status": "completed"
    },
    "tags": []
   },
   "source": [
    "# 0b."
   ]
  },
  {
   "cell_type": "code",
   "execution_count": 3,
   "id": "360403eb",
   "metadata": {
    "execution": {
     "iopub.execute_input": "2023-02-16T13:09:49.196101Z",
     "iopub.status.busy": "2023-02-16T13:09:49.195594Z",
     "iopub.status.idle": "2023-02-16T13:09:49.204757Z",
     "shell.execute_reply": "2023-02-16T13:09:49.203918Z"
    },
    "papermill": {
     "duration": 0.018687,
     "end_time": "2023-02-16T13:09:49.206996",
     "exception": false,
     "start_time": "2023-02-16T13:09:49.188309",
     "status": "completed"
    },
    "tags": []
   },
   "outputs": [
    {
     "data": {
      "application/javascript": [
       "parent.postMessage({\"jupyterEvent\": \"custom.exercise_interaction\", \"data\": {\"outcomeType\": 1, \"valueTowardsCompletion\": 0.3333333333333333, \"interactionType\": 1, \"questionType\": 1, \"questionId\": \"0.2_ZB\", \"learnToolsVersion\": \"0.3.4\", \"failureMessage\": \"\", \"exceptionClass\": \"\", \"trace\": \"\"}}, \"*\")"
      ],
      "text/plain": [
       "<IPython.core.display.Javascript object>"
      ]
     },
     "metadata": {},
     "output_type": "display_data"
    },
    {
     "data": {
      "text/markdown": [
       "<span style=\"color:#33cc33\">Correct:</span> \n",
       "\n",
       "Keep in mind Python includes spaces (and punctuation) when counting string length."
      ],
      "text/plain": [
       "Correct: \n",
       "\n",
       "Keep in mind Python includes spaces (and punctuation) when counting string length."
      ]
     },
     "metadata": {},
     "output_type": "display_data"
    }
   ],
   "source": [
    "b = \"it's ok\"\n",
    "length = 7\n",
    "q0.b.check()"
   ]
  },
  {
   "cell_type": "markdown",
   "id": "6818bb0e",
   "metadata": {
    "papermill": {
     "duration": 0.005683,
     "end_time": "2023-02-16T13:09:49.218945",
     "exception": false,
     "start_time": "2023-02-16T13:09:49.213262",
     "status": "completed"
    },
    "tags": []
   },
   "source": [
    "# 0c."
   ]
  },
  {
   "cell_type": "code",
   "execution_count": 4,
   "id": "343260a0",
   "metadata": {
    "execution": {
     "iopub.execute_input": "2023-02-16T13:09:49.233242Z",
     "iopub.status.busy": "2023-02-16T13:09:49.232557Z",
     "iopub.status.idle": "2023-02-16T13:09:49.241695Z",
     "shell.execute_reply": "2023-02-16T13:09:49.240776Z"
    },
    "papermill": {
     "duration": 0.01882,
     "end_time": "2023-02-16T13:09:49.243871",
     "exception": false,
     "start_time": "2023-02-16T13:09:49.225051",
     "status": "completed"
    },
    "tags": []
   },
   "outputs": [
    {
     "data": {
      "application/javascript": [
       "parent.postMessage({\"jupyterEvent\": \"custom.exercise_interaction\", \"data\": {\"outcomeType\": 1, \"valueTowardsCompletion\": 0.3333333333333333, \"interactionType\": 1, \"questionType\": 1, \"questionId\": \"0.3_ZC\", \"learnToolsVersion\": \"0.3.4\", \"failureMessage\": \"\", \"exceptionClass\": \"\", \"trace\": \"\"}}, \"*\")"
      ],
      "text/plain": [
       "<IPython.core.display.Javascript object>"
      ]
     },
     "metadata": {},
     "output_type": "display_data"
    },
    {
     "data": {
      "text/markdown": [
       "<span style=\"color:#33cc33\">Correct:</span> \n",
       "\n",
       "Even though we use different syntax to create it, the string `c` is identical to `b`. In particular, note that the backslash is not part of the string, so it doesn't contribute to its length."
      ],
      "text/plain": [
       "Correct: \n",
       "\n",
       "Even though we use different syntax to create it, the string `c` is identical to `b`. In particular, note that the backslash is not part of the string, so it doesn't contribute to its length."
      ]
     },
     "metadata": {},
     "output_type": "display_data"
    }
   ],
   "source": [
    "c = 'it\\'s ok'\n",
    "length = 7\n",
    "q0.c.check()"
   ]
  },
  {
   "cell_type": "markdown",
   "id": "84043834",
   "metadata": {
    "papermill": {
     "duration": 0.006047,
     "end_time": "2023-02-16T13:09:49.256167",
     "exception": false,
     "start_time": "2023-02-16T13:09:49.250120",
     "status": "completed"
    },
    "tags": []
   },
   "source": [
    "# 0d."
   ]
  },
  {
   "cell_type": "code",
   "execution_count": 5,
   "id": "ee4caf43",
   "metadata": {
    "execution": {
     "iopub.execute_input": "2023-02-16T13:09:49.270885Z",
     "iopub.status.busy": "2023-02-16T13:09:49.270181Z",
     "iopub.status.idle": "2023-02-16T13:09:49.280157Z",
     "shell.execute_reply": "2023-02-16T13:09:49.279069Z"
    },
    "papermill": {
     "duration": 0.020138,
     "end_time": "2023-02-16T13:09:49.282522",
     "exception": false,
     "start_time": "2023-02-16T13:09:49.262384",
     "status": "completed"
    },
    "tags": []
   },
   "outputs": [
    {
     "data": {
      "application/javascript": [
       "parent.postMessage({\"jupyterEvent\": \"custom.exercise_interaction\", \"data\": {\"outcomeType\": 1, \"valueTowardsCompletion\": 0.3333333333333333, \"interactionType\": 1, \"questionType\": 1, \"questionId\": \"0.4_ZD\", \"learnToolsVersion\": \"0.3.4\", \"failureMessage\": \"\", \"exceptionClass\": \"\", \"trace\": \"\"}}, \"*\")"
      ],
      "text/plain": [
       "<IPython.core.display.Javascript object>"
      ]
     },
     "metadata": {},
     "output_type": "display_data"
    },
    {
     "data": {
      "text/markdown": [
       "<span style=\"color:#33cc33\">Correct:</span> \n",
       "\n",
       "The fact that this string was created using triple-quote syntax doesn't make any difference in terms of its content or length. This string is exactly the same as `'hey'`."
      ],
      "text/plain": [
       "Correct: \n",
       "\n",
       "The fact that this string was created using triple-quote syntax doesn't make any difference in terms of its content or length. This string is exactly the same as `'hey'`."
      ]
     },
     "metadata": {},
     "output_type": "display_data"
    }
   ],
   "source": [
    "d = \"\"\"hey\"\"\"\n",
    "length = 3\n",
    "q0.d.check()"
   ]
  },
  {
   "cell_type": "markdown",
   "id": "7ccd45df",
   "metadata": {
    "papermill": {
     "duration": 0.006319,
     "end_time": "2023-02-16T13:09:49.295672",
     "exception": false,
     "start_time": "2023-02-16T13:09:49.289353",
     "status": "completed"
    },
    "tags": []
   },
   "source": [
    "# 0e."
   ]
  },
  {
   "cell_type": "code",
   "execution_count": 6,
   "id": "581b411e",
   "metadata": {
    "execution": {
     "iopub.execute_input": "2023-02-16T13:09:49.310922Z",
     "iopub.status.busy": "2023-02-16T13:09:49.310499Z",
     "iopub.status.idle": "2023-02-16T13:09:49.318050Z",
     "shell.execute_reply": "2023-02-16T13:09:49.317293Z"
    },
    "papermill": {
     "duration": 0.017681,
     "end_time": "2023-02-16T13:09:49.319916",
     "exception": false,
     "start_time": "2023-02-16T13:09:49.302235",
     "status": "completed"
    },
    "tags": []
   },
   "outputs": [
    {
     "data": {
      "application/javascript": [
       "parent.postMessage({\"jupyterEvent\": \"custom.exercise_interaction\", \"data\": {\"outcomeType\": 1, \"valueTowardsCompletion\": 0.3333333333333333, \"interactionType\": 1, \"questionType\": 1, \"questionId\": \"0.5_ZE\", \"learnToolsVersion\": \"0.3.4\", \"failureMessage\": \"\", \"exceptionClass\": \"\", \"trace\": \"\"}}, \"*\")"
      ],
      "text/plain": [
       "<IPython.core.display.Javascript object>"
      ]
     },
     "metadata": {},
     "output_type": "display_data"
    },
    {
     "data": {
      "text/markdown": [
       "<span style=\"color:#33cc33\">Correct:</span> \n",
       "\n",
       "The newline character is just a single character! (Even though we represent it to Python using a combination of two characters.)"
      ],
      "text/plain": [
       "Correct: \n",
       "\n",
       "The newline character is just a single character! (Even though we represent it to Python using a combination of two characters.)"
      ]
     },
     "metadata": {},
     "output_type": "display_data"
    }
   ],
   "source": [
    "e = '\\n'\n",
    "length = 1\n",
    "q0.e.check()"
   ]
  },
  {
   "cell_type": "markdown",
   "id": "736d0ddd",
   "metadata": {
    "papermill": {
     "duration": 0.006528,
     "end_time": "2023-02-16T13:09:49.333226",
     "exception": false,
     "start_time": "2023-02-16T13:09:49.326698",
     "status": "completed"
    },
    "tags": []
   },
   "source": [
    "# 1.\n",
    "\n",
    "There is a saying that \"Data scientists spend 80% of their time cleaning data, and 20% of their time complaining about cleaning data.\" Let's see if you can write a function to help clean US zip code data. Given a string, it should return whether or not that string represents a valid zip code. For our purposes, a valid zip code is any string consisting of exactly 5 digits.\n",
    "\n",
    "HINT: `str` has a method that will be useful here. Use `help(str)` to review a list of string methods."
   ]
  },
  {
   "cell_type": "code",
   "execution_count": 7,
   "id": "2f98d329",
   "metadata": {
    "execution": {
     "iopub.execute_input": "2023-02-16T13:09:49.348710Z",
     "iopub.status.busy": "2023-02-16T13:09:49.348258Z",
     "iopub.status.idle": "2023-02-16T13:09:49.359421Z",
     "shell.execute_reply": "2023-02-16T13:09:49.358151Z"
    },
    "papermill": {
     "duration": 0.02193,
     "end_time": "2023-02-16T13:09:49.361963",
     "exception": false,
     "start_time": "2023-02-16T13:09:49.340033",
     "status": "completed"
    },
    "tags": []
   },
   "outputs": [
    {
     "data": {
      "application/javascript": [
       "parent.postMessage({\"jupyterEvent\": \"custom.exercise_interaction\", \"data\": {\"outcomeType\": 1, \"valueTowardsCompletion\": 0.3333333333333333, \"interactionType\": 1, \"questionType\": 2, \"questionId\": \"1_ZipValidator\", \"learnToolsVersion\": \"0.3.4\", \"failureMessage\": \"\", \"exceptionClass\": \"\", \"trace\": \"\"}}, \"*\")"
      ],
      "text/plain": [
       "<IPython.core.display.Javascript object>"
      ]
     },
     "metadata": {},
     "output_type": "display_data"
    },
    {
     "data": {
      "text/markdown": [
       "<span style=\"color:#33cc33\">Correct</span>"
      ],
      "text/plain": [
       "Correct"
      ]
     },
     "metadata": {},
     "output_type": "display_data"
    }
   ],
   "source": [
    "def is_valid_zip(zip_code):\n",
    "    \"\"\"Returns whether the input string is a valid (5 digit) zip code\n",
    "    \"\"\"\n",
    "    counter = 0\n",
    "    for i in zip_code:\n",
    "        if i.isdigit():\n",
    "            counter+=1\n",
    "    return counter==5\n",
    "\n",
    "# Check your answer\n",
    "q1.check()"
   ]
  },
  {
   "cell_type": "code",
   "execution_count": 8,
   "id": "4671d36e",
   "metadata": {
    "execution": {
     "iopub.execute_input": "2023-02-16T13:09:49.379107Z",
     "iopub.status.busy": "2023-02-16T13:09:49.377923Z",
     "iopub.status.idle": "2023-02-16T13:09:49.383170Z",
     "shell.execute_reply": "2023-02-16T13:09:49.381987Z"
    },
    "papermill": {
     "duration": 0.01636,
     "end_time": "2023-02-16T13:09:49.385715",
     "exception": false,
     "start_time": "2023-02-16T13:09:49.369355",
     "status": "completed"
    },
    "tags": []
   },
   "outputs": [],
   "source": [
    "#q1.hint()\n",
    "#q1.solution()"
   ]
  },
  {
   "cell_type": "markdown",
   "id": "cda49428",
   "metadata": {
    "papermill": {
     "duration": 0.006917,
     "end_time": "2023-02-16T13:09:49.399913",
     "exception": false,
     "start_time": "2023-02-16T13:09:49.392996",
     "status": "completed"
    },
    "tags": []
   },
   "source": [
    "# 2.\n",
    "\n",
    "A researcher has gathered thousands of news articles. But she wants to focus her attention on articles including a specific word. Complete the function below to help her filter her list of articles.\n",
    "\n",
    "Your function should meet the following criteria:\n",
    "\n",
    "- Do not include documents where the keyword string shows up only as a part of a larger word. For example, if she were looking for the keyword “closed”, you would not include the string “enclosed.” \n",
    "- She does not want you to distinguish upper case from lower case letters. So the phrase “Closed the case.” would be included when the keyword is “closed”\n",
    "- Do not let periods or commas affect what is matched. “It is closed.” would be included when the keyword is “closed”. But you can assume there are no other types of punctuation."
   ]
  },
  {
   "cell_type": "code",
   "execution_count": 9,
   "id": "7168ad36",
   "metadata": {
    "execution": {
     "iopub.execute_input": "2023-02-16T13:09:49.416392Z",
     "iopub.status.busy": "2023-02-16T13:09:49.415971Z",
     "iopub.status.idle": "2023-02-16T13:09:49.434089Z",
     "shell.execute_reply": "2023-02-16T13:09:49.432881Z"
    },
    "papermill": {
     "duration": 0.029127,
     "end_time": "2023-02-16T13:09:49.436416",
     "exception": false,
     "start_time": "2023-02-16T13:09:49.407289",
     "status": "completed"
    },
    "tags": []
   },
   "outputs": [
    {
     "data": {
      "application/javascript": [
       "parent.postMessage({\"jupyterEvent\": \"custom.exercise_interaction\", \"data\": {\"outcomeType\": 1, \"valueTowardsCompletion\": 0.3333333333333333, \"interactionType\": 1, \"questionType\": 2, \"questionId\": \"2_WordSearch\", \"learnToolsVersion\": \"0.3.4\", \"failureMessage\": \"\", \"exceptionClass\": \"\", \"trace\": \"\"}}, \"*\")"
      ],
      "text/plain": [
       "<IPython.core.display.Javascript object>"
      ]
     },
     "metadata": {},
     "output_type": "display_data"
    },
    {
     "data": {
      "text/markdown": [
       "<span style=\"color:#33cc33\">Correct</span>"
      ],
      "text/plain": [
       "Correct"
      ]
     },
     "metadata": {},
     "output_type": "display_data"
    }
   ],
   "source": [
    "def word_search(doc_list, keyword):\n",
    "    \"\"\"\n",
    "    Takes a list of documents (each document is a string) and a keyword. \n",
    "    Returns list of the index values into the original list for all documents \n",
    "    containing the keyword.\n",
    "\n",
    "    Example:\n",
    "    doc_list = [\"The Learn Python Challenge Casino.\", \"They bought a car\", \"Casinoville\"]\n",
    "    >>> word_search(doc_list, 'casino')\n",
    "    >>> [0]\n",
    "    \"\"\"\n",
    "    counter = 0\n",
    "    res_list = []\n",
    "    for i in doc_list:\n",
    "        for x in i.split():\n",
    "            if x.endswith(\",\") or x.endswith(\".\"):\n",
    "                if x[:-1].upper()==keyword.upper():\n",
    "                    res_list.append(counter)\n",
    "                    break\n",
    "            else:\n",
    "                if x.upper()==keyword.upper():\n",
    "                    res_list.append(counter)\n",
    "                    break\n",
    "        counter+=1    \n",
    "        \n",
    "    return res_list\n",
    "\n",
    "# Check your answer\n",
    "q2.check()"
   ]
  },
  {
   "cell_type": "code",
   "execution_count": 10,
   "id": "8b8894ba",
   "metadata": {
    "execution": {
     "iopub.execute_input": "2023-02-16T13:09:49.453453Z",
     "iopub.status.busy": "2023-02-16T13:09:49.452692Z",
     "iopub.status.idle": "2023-02-16T13:09:49.462225Z",
     "shell.execute_reply": "2023-02-16T13:09:49.460954Z"
    },
    "papermill": {
     "duration": 0.020601,
     "end_time": "2023-02-16T13:09:49.464512",
     "exception": false,
     "start_time": "2023-02-16T13:09:49.443911",
     "status": "completed"
    },
    "tags": []
   },
   "outputs": [
    {
     "data": {
      "application/javascript": [
       "parent.postMessage({\"jupyterEvent\": \"custom.exercise_interaction\", \"data\": {\"interactionType\": 3, \"questionType\": 2, \"questionId\": \"2_WordSearch\", \"learnToolsVersion\": \"0.3.4\", \"valueTowardsCompletion\": 0.0, \"failureMessage\": \"\", \"exceptionClass\": \"\", \"trace\": \"\", \"outcomeType\": 4}}, \"*\")"
      ],
      "text/plain": [
       "<IPython.core.display.Javascript object>"
      ]
     },
     "metadata": {},
     "output_type": "display_data"
    },
    {
     "data": {
      "text/markdown": [
       "<span style=\"color:#33cc99\">Solution:</span> \n",
       "```python\n",
       "def word_search(doc_list, keyword):\n",
       "    # list to hold the indices of matching documents\n",
       "    indices = [] \n",
       "    # Iterate through the indices (i) and elements (doc) of documents\n",
       "    for i, doc in enumerate(doc_list):\n",
       "        # Split the string doc into a list of words (according to whitespace)\n",
       "        tokens = doc.split()\n",
       "        # Make a transformed list where we 'normalize' each word to facilitate matching.\n",
       "        # Periods and commas are removed from the end of each word, and it's set to all lowercase.\n",
       "        normalized = [token.rstrip('.,').lower() for token in tokens]\n",
       "        # Is there a match? If so, update the list of matching indices.\n",
       "        if keyword.lower() in normalized:\n",
       "            indices.append(i)\n",
       "    return indices\n",
       "```"
      ],
      "text/plain": [
       "Solution: \n",
       "```python\n",
       "def word_search(doc_list, keyword):\n",
       "    # list to hold the indices of matching documents\n",
       "    indices = [] \n",
       "    # Iterate through the indices (i) and elements (doc) of documents\n",
       "    for i, doc in enumerate(doc_list):\n",
       "        # Split the string doc into a list of words (according to whitespace)\n",
       "        tokens = doc.split()\n",
       "        # Make a transformed list where we 'normalize' each word to facilitate matching.\n",
       "        # Periods and commas are removed from the end of each word, and it's set to all lowercase.\n",
       "        normalized = [token.rstrip('.,').lower() for token in tokens]\n",
       "        # Is there a match? If so, update the list of matching indices.\n",
       "        if keyword.lower() in normalized:\n",
       "            indices.append(i)\n",
       "    return indices\n",
       "```"
      ]
     },
     "metadata": {},
     "output_type": "display_data"
    }
   ],
   "source": [
    "#q2.hint()\n",
    "q2.solution()"
   ]
  },
  {
   "cell_type": "markdown",
   "id": "165ddbf6",
   "metadata": {
    "papermill": {
     "duration": 0.007312,
     "end_time": "2023-02-16T13:09:49.479707",
     "exception": false,
     "start_time": "2023-02-16T13:09:49.472395",
     "status": "completed"
    },
    "tags": []
   },
   "source": [
    "# 3.\n",
    "\n",
    "Now the researcher wants to supply multiple keywords to search for. Complete the function below to help her.\n",
    "\n",
    "(You're encouraged to use the `word_search` function you just wrote when implementing this function. Reusing code in this way makes your programs more robust and readable - and it saves typing!)"
   ]
  },
  {
   "cell_type": "code",
   "execution_count": 11,
   "id": "08675e26",
   "metadata": {
    "execution": {
     "iopub.execute_input": "2023-02-16T13:09:49.497386Z",
     "iopub.status.busy": "2023-02-16T13:09:49.496448Z",
     "iopub.status.idle": "2023-02-16T13:09:49.507048Z",
     "shell.execute_reply": "2023-02-16T13:09:49.506095Z"
    },
    "papermill": {
     "duration": 0.022001,
     "end_time": "2023-02-16T13:09:49.509432",
     "exception": false,
     "start_time": "2023-02-16T13:09:49.487431",
     "status": "completed"
    },
    "tags": []
   },
   "outputs": [
    {
     "data": {
      "application/javascript": [
       "parent.postMessage({\"jupyterEvent\": \"custom.exercise_interaction\", \"data\": {\"outcomeType\": 1, \"valueTowardsCompletion\": 0.3333333333333333, \"interactionType\": 1, \"questionType\": 2, \"questionId\": \"3_MultiWordSearch\", \"learnToolsVersion\": \"0.3.4\", \"failureMessage\": \"\", \"exceptionClass\": \"\", \"trace\": \"\"}}, \"*\")"
      ],
      "text/plain": [
       "<IPython.core.display.Javascript object>"
      ]
     },
     "metadata": {},
     "output_type": "display_data"
    },
    {
     "data": {
      "text/markdown": [
       "<span style=\"color:#33cc33\">Correct</span>"
      ],
      "text/plain": [
       "Correct"
      ]
     },
     "metadata": {},
     "output_type": "display_data"
    }
   ],
   "source": [
    "def multi_word_search(doc_list, keywords):\n",
    "    \"\"\"\n",
    "    Takes list of documents (each document is a string) and a list of keywords.  \n",
    "    Returns a dictionary where each key is a keyword, and the value is a list of indices\n",
    "    (from doc_list) of the documents containing that keyword\n",
    "\n",
    "    >>> doc_list = [\"The Learn Python Challenge Casino.\", \"They bought a car and a casino\", \"Casinoville\"]\n",
    "    >>> keywords = ['casino', 'they']\n",
    "    >>> multi_word_search(doc_list, keywords)\n",
    "    {'casino': [0, 1], 'they': [1]}\n",
    "    \"\"\"\n",
    "    dictionary={}\n",
    "    for word in keywords:\n",
    "        dictionary[word]=word_search(doc_list,word)\n",
    "    return dictionary\n",
    "\n",
    "# Check your answer\n",
    "q3.check()"
   ]
  },
  {
   "cell_type": "code",
   "execution_count": 12,
   "id": "fbeceeb7",
   "metadata": {
    "execution": {
     "iopub.execute_input": "2023-02-16T13:09:49.527682Z",
     "iopub.status.busy": "2023-02-16T13:09:49.526748Z",
     "iopub.status.idle": "2023-02-16T13:09:49.531759Z",
     "shell.execute_reply": "2023-02-16T13:09:49.530682Z"
    },
    "papermill": {
     "duration": 0.016762,
     "end_time": "2023-02-16T13:09:49.534298",
     "exception": false,
     "start_time": "2023-02-16T13:09:49.517536",
     "status": "completed"
    },
    "tags": []
   },
   "outputs": [],
   "source": [
    "#q3.solution()"
   ]
  },
  {
   "cell_type": "markdown",
   "id": "8be2cbea",
   "metadata": {
    "papermill": {
     "duration": 0.007617,
     "end_time": "2023-02-16T13:09:49.550020",
     "exception": false,
     "start_time": "2023-02-16T13:09:49.542403",
     "status": "completed"
    },
    "tags": []
   },
   "source": [
    "# Keep Going\n",
    "\n",
    "You've learned a lot. But even the best programmers rely heavily on \"libraries\" of code from other programmers. You'll learn about that in **[the last lesson](https://www.kaggle.com/colinmorris/working-with-external-libraries)**.\n"
   ]
  },
  {
   "cell_type": "markdown",
   "id": "9720cd13",
   "metadata": {
    "papermill": {
     "duration": 0.00768,
     "end_time": "2023-02-16T13:09:49.565780",
     "exception": false,
     "start_time": "2023-02-16T13:09:49.558100",
     "status": "completed"
    },
    "tags": []
   },
   "source": [
    "---\n",
    "\n",
    "\n",
    "\n",
    "\n",
    "*Have questions or comments? Visit the [course discussion forum](https://www.kaggle.com/learn/python/discussion) to chat with other learners.*"
   ]
  }
 ],
 "metadata": {
  "kernelspec": {
   "display_name": "Python 3",
   "language": "python",
   "name": "python3"
  },
  "language_info": {
   "codemirror_mode": {
    "name": "ipython",
    "version": 3
   },
   "file_extension": ".py",
   "mimetype": "text/x-python",
   "name": "python",
   "nbconvert_exporter": "python",
   "pygments_lexer": "ipython3",
   "version": "3.7.12"
  },
  "papermill": {
   "default_parameters": {},
   "duration": 11.354801,
   "end_time": "2023-02-16T13:09:50.295668",
   "environment_variables": {},
   "exception": null,
   "input_path": "__notebook__.ipynb",
   "output_path": "__notebook__.ipynb",
   "parameters": {},
   "start_time": "2023-02-16T13:09:38.940867",
   "version": "2.3.4"
  }
 },
 "nbformat": 4,
 "nbformat_minor": 5
}
