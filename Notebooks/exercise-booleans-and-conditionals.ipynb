{
 "cells": [
  {
   "cell_type": "markdown",
   "id": "2e38bffa",
   "metadata": {
    "papermill": {
     "duration": 0.01115,
     "end_time": "2023-02-15T14:40:34.477498",
     "exception": false,
     "start_time": "2023-02-15T14:40:34.466348",
     "status": "completed"
    },
    "tags": []
   },
   "source": [
    "**This notebook is an exercise in the [Python](https://www.kaggle.com/learn/python) course.  You can reference the tutorial at [this link](https://www.kaggle.com/colinmorris/booleans-and-conditionals).**\n",
    "\n",
    "---\n"
   ]
  },
  {
   "cell_type": "markdown",
   "id": "a480df35",
   "metadata": {
    "papermill": {
     "duration": 0.008678,
     "end_time": "2023-02-15T14:40:34.495666",
     "exception": false,
     "start_time": "2023-02-15T14:40:34.486988",
     "status": "completed"
    },
    "tags": []
   },
   "source": [
    "In this exercise, you'll put to work what you have learned about booleans and conditionals.\n",
    "\n",
    "To get started, **run the setup code below** before writing your own code (and if you leave this notebook and come back later, don't forget to run the setup code again)."
   ]
  },
  {
   "cell_type": "code",
   "execution_count": 1,
   "id": "f357ddc2",
   "metadata": {
    "execution": {
     "iopub.execute_input": "2023-02-15T14:40:34.516159Z",
     "iopub.status.busy": "2023-02-15T14:40:34.515331Z",
     "iopub.status.idle": "2023-02-15T14:40:34.574476Z",
     "shell.execute_reply": "2023-02-15T14:40:34.573215Z"
    },
    "papermill": {
     "duration": 0.074981,
     "end_time": "2023-02-15T14:40:34.579815",
     "exception": false,
     "start_time": "2023-02-15T14:40:34.504834",
     "status": "completed"
    },
    "tags": []
   },
   "outputs": [
    {
     "name": "stdout",
     "output_type": "stream",
     "text": [
      "Setup complete.\n"
     ]
    }
   ],
   "source": [
    "from learntools.core import binder; binder.bind(globals())\n",
    "from learntools.python.ex3 import *\n",
    "print('Setup complete.')"
   ]
  },
  {
   "cell_type": "markdown",
   "id": "6f1ee2cf",
   "metadata": {
    "papermill": {
     "duration": 0.011205,
     "end_time": "2023-02-15T14:40:34.606230",
     "exception": false,
     "start_time": "2023-02-15T14:40:34.595025",
     "status": "completed"
    },
    "tags": []
   },
   "source": [
    "# 1.\n",
    "\n",
    "Many programming languages have [`sign`](https://en.wikipedia.org/wiki/Sign_function) available as a built-in function. Python doesn't, but we can define our own!\n",
    "\n",
    "In the cell below, define a function called `sign` which takes a numerical argument and returns -1 if it's negative, 1 if it's positive, and 0 if it's 0."
   ]
  },
  {
   "cell_type": "code",
   "execution_count": 2,
   "id": "709e1bcf",
   "metadata": {
    "execution": {
     "iopub.execute_input": "2023-02-15T14:40:34.633378Z",
     "iopub.status.busy": "2023-02-15T14:40:34.632157Z",
     "iopub.status.idle": "2023-02-15T14:40:34.645063Z",
     "shell.execute_reply": "2023-02-15T14:40:34.643962Z"
    },
    "papermill": {
     "duration": 0.029192,
     "end_time": "2023-02-15T14:40:34.647657",
     "exception": false,
     "start_time": "2023-02-15T14:40:34.618465",
     "status": "completed"
    },
    "tags": []
   },
   "outputs": [
    {
     "data": {
      "application/javascript": [
       "parent.postMessage({\"jupyterEvent\": \"custom.exercise_interaction\", \"data\": {\"outcomeType\": 1, \"valueTowardsCompletion\": 0.2, \"interactionType\": 1, \"questionType\": 2, \"questionId\": \"1_SignFunctionProblem\", \"learnToolsVersion\": \"0.3.4\", \"failureMessage\": \"\", \"exceptionClass\": \"\", \"trace\": \"\"}}, \"*\")"
      ],
      "text/plain": [
       "<IPython.core.display.Javascript object>"
      ]
     },
     "metadata": {},
     "output_type": "display_data"
    },
    {
     "data": {
      "text/markdown": [
       "<span style=\"color:#33cc33\">Correct</span>"
      ],
      "text/plain": [
       "Correct"
      ]
     },
     "metadata": {},
     "output_type": "display_data"
    }
   ],
   "source": [
    "# Your code goes here. Define a function called 'sign'\n",
    "def sign(number):\n",
    "    if number > 0:\n",
    "        return 1\n",
    "    elif number < 0:\n",
    "        return -1\n",
    "    else:\n",
    "        return 0\n",
    "\n",
    "\n",
    "    \n",
    "\n",
    "# Check your answer\n",
    "q1.check()"
   ]
  },
  {
   "cell_type": "code",
   "execution_count": 3,
   "id": "dbc102f9",
   "metadata": {
    "execution": {
     "iopub.execute_input": "2023-02-15T14:40:34.668667Z",
     "iopub.status.busy": "2023-02-15T14:40:34.668130Z",
     "iopub.status.idle": "2023-02-15T14:40:34.674145Z",
     "shell.execute_reply": "2023-02-15T14:40:34.672770Z"
    },
    "papermill": {
     "duration": 0.019338,
     "end_time": "2023-02-15T14:40:34.676659",
     "exception": false,
     "start_time": "2023-02-15T14:40:34.657321",
     "status": "completed"
    },
    "tags": []
   },
   "outputs": [],
   "source": [
    "#q1.solution()"
   ]
  },
  {
   "cell_type": "markdown",
   "id": "30681f96",
   "metadata": {
    "papermill": {
     "duration": 0.009055,
     "end_time": "2023-02-15T14:40:34.695395",
     "exception": false,
     "start_time": "2023-02-15T14:40:34.686340",
     "status": "completed"
    },
    "tags": []
   },
   "source": [
    "# 2.\n",
    "\n",
    "We've decided to add \"logging\" to our `to_smash` function from the previous exercise."
   ]
  },
  {
   "cell_type": "code",
   "execution_count": 4,
   "id": "74bf682f",
   "metadata": {
    "execution": {
     "iopub.execute_input": "2023-02-15T14:40:34.716477Z",
     "iopub.status.busy": "2023-02-15T14:40:34.716035Z",
     "iopub.status.idle": "2023-02-15T14:40:34.735355Z",
     "shell.execute_reply": "2023-02-15T14:40:34.733826Z"
    },
    "papermill": {
     "duration": 0.033364,
     "end_time": "2023-02-15T14:40:34.738351",
     "exception": false,
     "start_time": "2023-02-15T14:40:34.704987",
     "status": "completed"
    },
    "tags": []
   },
   "outputs": [
    {
     "name": "stdout",
     "output_type": "stream",
     "text": [
      "Splitting 91 candies\n"
     ]
    },
    {
     "data": {
      "text/plain": [
       "1"
      ]
     },
     "execution_count": 4,
     "metadata": {},
     "output_type": "execute_result"
    }
   ],
   "source": [
    "def to_smash(total_candies):\n",
    "    \"\"\"Return the number of leftover candies that must be smashed after distributing\n",
    "    the given number of candies evenly between 3 friends.\n",
    "    \n",
    "    >>> to_smash(91)\n",
    "    1\n",
    "    \"\"\"\n",
    "    print(\"Splitting\", total_candies, \"candies\")\n",
    "    return total_candies % 3\n",
    "\n",
    "to_smash(91)"
   ]
  },
  {
   "cell_type": "markdown",
   "id": "a5c47f47",
   "metadata": {
    "papermill": {
     "duration": 0.011143,
     "end_time": "2023-02-15T14:40:34.759872",
     "exception": false,
     "start_time": "2023-02-15T14:40:34.748729",
     "status": "completed"
    },
    "tags": []
   },
   "source": [
    "What happens if we call it with `total_candies = 1`?"
   ]
  },
  {
   "cell_type": "code",
   "execution_count": 5,
   "id": "bf5688e6",
   "metadata": {
    "execution": {
     "iopub.execute_input": "2023-02-15T14:40:34.782100Z",
     "iopub.status.busy": "2023-02-15T14:40:34.781597Z",
     "iopub.status.idle": "2023-02-15T14:40:34.789379Z",
     "shell.execute_reply": "2023-02-15T14:40:34.787907Z"
    },
    "papermill": {
     "duration": 0.021897,
     "end_time": "2023-02-15T14:40:34.792003",
     "exception": false,
     "start_time": "2023-02-15T14:40:34.770106",
     "status": "completed"
    },
    "tags": []
   },
   "outputs": [
    {
     "name": "stdout",
     "output_type": "stream",
     "text": [
      "Splitting 1 candies\n"
     ]
    },
    {
     "data": {
      "text/plain": [
       "1"
      ]
     },
     "execution_count": 5,
     "metadata": {},
     "output_type": "execute_result"
    }
   ],
   "source": [
    "to_smash(1)"
   ]
  },
  {
   "cell_type": "markdown",
   "id": "2ec1d3f5",
   "metadata": {
    "papermill": {
     "duration": 0.009328,
     "end_time": "2023-02-15T14:40:34.811632",
     "exception": false,
     "start_time": "2023-02-15T14:40:34.802304",
     "status": "completed"
    },
    "tags": []
   },
   "source": [
    "That isn't great grammar!\n",
    "\n",
    "Modify the definition in the cell below to correct the grammar of our print statement. (If there's only one candy, we should use the singular \"candy\" instead of the plural \"candies\")"
   ]
  },
  {
   "cell_type": "code",
   "execution_count": 6,
   "id": "7d26d55e",
   "metadata": {
    "execution": {
     "iopub.execute_input": "2023-02-15T14:40:34.833319Z",
     "iopub.status.busy": "2023-02-15T14:40:34.832879Z",
     "iopub.status.idle": "2023-02-15T14:40:34.843810Z",
     "shell.execute_reply": "2023-02-15T14:40:34.842384Z"
    },
    "papermill": {
     "duration": 0.025898,
     "end_time": "2023-02-15T14:40:34.847126",
     "exception": false,
     "start_time": "2023-02-15T14:40:34.821228",
     "status": "completed"
    },
    "tags": []
   },
   "outputs": [
    {
     "name": "stdout",
     "output_type": "stream",
     "text": [
      "Splitting 91 candies\n",
      "Splitting 1 candie\n"
     ]
    },
    {
     "data": {
      "text/plain": [
       "1"
      ]
     },
     "execution_count": 6,
     "metadata": {},
     "output_type": "execute_result"
    }
   ],
   "source": [
    "def to_smash(total_candies):\n",
    "    \"\"\"Return the number of leftover candies that must be smashed after distributing\n",
    "    the given number of candies evenly between 3 friends.\n",
    "    \n",
    "    >>> to_smash(91)\n",
    "    1\n",
    "    \"\"\"\n",
    "    if total_candies==1:\n",
    "        print(\"Splitting\", total_candies, \"candie\")\n",
    "    else:    \n",
    "        print(\"Splitting\", total_candies, \"candies\")\n",
    "    return total_candies % 3\n",
    "\n",
    "to_smash(91)\n",
    "to_smash(1)"
   ]
  },
  {
   "cell_type": "markdown",
   "id": "56845d23",
   "metadata": {
    "papermill": {
     "duration": 0.010373,
     "end_time": "2023-02-15T14:40:34.867907",
     "exception": false,
     "start_time": "2023-02-15T14:40:34.857534",
     "status": "completed"
    },
    "tags": []
   },
   "source": [
    "To get credit for completing this problem, and to see the official answer, run the code cell below."
   ]
  },
  {
   "cell_type": "code",
   "execution_count": 7,
   "id": "8466dace",
   "metadata": {
    "execution": {
     "iopub.execute_input": "2023-02-15T14:40:34.891043Z",
     "iopub.status.busy": "2023-02-15T14:40:34.890618Z",
     "iopub.status.idle": "2023-02-15T14:40:34.895950Z",
     "shell.execute_reply": "2023-02-15T14:40:34.894607Z"
    },
    "papermill": {
     "duration": 0.02026,
     "end_time": "2023-02-15T14:40:34.898676",
     "exception": false,
     "start_time": "2023-02-15T14:40:34.878416",
     "status": "completed"
    },
    "tags": []
   },
   "outputs": [],
   "source": [
    "# Check your answer (Run this code cell to receive credit!)\n",
    "#q2.solution()"
   ]
  },
  {
   "cell_type": "markdown",
   "id": "2527b052",
   "metadata": {
    "papermill": {
     "duration": 0.009745,
     "end_time": "2023-02-15T14:40:34.918848",
     "exception": false,
     "start_time": "2023-02-15T14:40:34.909103",
     "status": "completed"
    },
    "tags": []
   },
   "source": [
    "# 3. <span title=\"A bit spicy\" style=\"color: darkgreen \">🌶️</span>\n",
    "\n",
    "In the tutorial, we talked about deciding whether we're prepared for the weather. I said that I'm safe from today's weather if...\n",
    "- I have an umbrella...\n",
    "- or if the rain isn't too heavy and I have a hood...\n",
    "- otherwise, I'm still fine unless it's raining *and* it's a workday\n",
    "\n",
    "The function below uses our first attempt at turning this logic into a Python expression. I claimed that there was a bug in that code. Can you find it?\n",
    "\n",
    "To prove that `prepared_for_weather` is buggy, come up with a set of inputs where either:\n",
    "- the function returns `False` (but should have returned `True`), or\n",
    "- the function returned `True` (but should have returned `False`).\n",
    "\n",
    "To get credit for completing this question, your code should return a <font color='#33cc33'>Correct</font> result."
   ]
  },
  {
   "cell_type": "code",
   "execution_count": 8,
   "id": "4aa3e80e",
   "metadata": {
    "execution": {
     "iopub.execute_input": "2023-02-15T14:40:34.941137Z",
     "iopub.status.busy": "2023-02-15T14:40:34.940735Z",
     "iopub.status.idle": "2023-02-15T14:40:34.954548Z",
     "shell.execute_reply": "2023-02-15T14:40:34.953058Z"
    },
    "papermill": {
     "duration": 0.028409,
     "end_time": "2023-02-15T14:40:34.957471",
     "exception": false,
     "start_time": "2023-02-15T14:40:34.929062",
     "status": "completed"
    },
    "tags": []
   },
   "outputs": [
    {
     "name": "stdout",
     "output_type": "stream",
     "text": [
      "False\n"
     ]
    },
    {
     "data": {
      "application/javascript": [
       "parent.postMessage({\"jupyterEvent\": \"custom.exercise_interaction\", \"data\": {\"outcomeType\": 1, \"valueTowardsCompletion\": 0.2, \"interactionType\": 1, \"questionType\": 1, \"questionId\": \"3_WeatherDebug\", \"learnToolsVersion\": \"0.3.4\", \"failureMessage\": \"\", \"exceptionClass\": \"\", \"trace\": \"\"}}, \"*\")"
      ],
      "text/plain": [
       "<IPython.core.display.Javascript object>"
      ]
     },
     "metadata": {},
     "output_type": "display_data"
    },
    {
     "data": {
      "text/markdown": [
       "<span style=\"color:#33cc33\">Correct:</span> \n",
       "\n",
       "One example of a failing test case is:\n",
       "\n",
       "```python\n",
       "have_umbrella = False\n",
       "rain_level = 0.0\n",
       "have_hood = False\n",
       "is_workday = False\n",
       "```\n",
       "\n",
       "Clearly we're prepared for the weather in this case. It's not raining. Not only that, it's not a workday, so we don't even need to leave the house! But our function will return False on these inputs.\n",
       "\n",
       "The key problem is that Python implictly parenthesizes the last part as:\n",
       "\n",
       "```python\n",
       "(not (rain_level > 0)) and is_workday\n",
       "```\n",
       "\n",
       "Whereas what we were trying to express would look more like:\n",
       "\n",
       "```python\n",
       "not (rain_level > 0 and is_workday)\n",
       "```\n"
      ],
      "text/plain": [
       "Correct: \n",
       "\n",
       "One example of a failing test case is:\n",
       "\n",
       "```python\n",
       "have_umbrella = False\n",
       "rain_level = 0.0\n",
       "have_hood = False\n",
       "is_workday = False\n",
       "```\n",
       "\n",
       "Clearly we're prepared for the weather in this case. It's not raining. Not only that, it's not a workday, so we don't even need to leave the house! But our function will return False on these inputs.\n",
       "\n",
       "The key problem is that Python implictly parenthesizes the last part as:\n",
       "\n",
       "```python\n",
       "(not (rain_level > 0)) and is_workday\n",
       "```\n",
       "\n",
       "Whereas what we were trying to express would look more like:\n",
       "\n",
       "```python\n",
       "not (rain_level > 0 and is_workday)\n",
       "```"
      ]
     },
     "metadata": {},
     "output_type": "display_data"
    }
   ],
   "source": [
    "def prepared_for_weather(have_umbrella, rain_level, have_hood, is_workday):\n",
    "    # Don't change this code. Our goal is just to find the bug, not fix it!\n",
    "    return have_umbrella or rain_level < 5 and have_hood or not rain_level > 0 and is_workday\n",
    "\n",
    "# Change the values of these inputs so they represent a case where prepared_for_weather\n",
    "# returns the wrong answer.\n",
    "have_umbrella = False\n",
    "rain_level = 0.0\n",
    "have_hood = False\n",
    "is_workday = False\n",
    "\n",
    "# Check what the function returns given the current values of the variables above\n",
    "actual = prepared_for_weather(have_umbrella, rain_level, have_hood, is_workday)\n",
    "print(actual)\n",
    "\n",
    "# Check your answer\n",
    "q3.check()"
   ]
  },
  {
   "cell_type": "code",
   "execution_count": 9,
   "id": "6d8c8bf7",
   "metadata": {
    "execution": {
     "iopub.execute_input": "2023-02-15T14:40:34.979747Z",
     "iopub.status.busy": "2023-02-15T14:40:34.979335Z",
     "iopub.status.idle": "2023-02-15T14:40:34.984312Z",
     "shell.execute_reply": "2023-02-15T14:40:34.982863Z"
    },
    "papermill": {
     "duration": 0.018494,
     "end_time": "2023-02-15T14:40:34.986535",
     "exception": false,
     "start_time": "2023-02-15T14:40:34.968041",
     "status": "completed"
    },
    "tags": []
   },
   "outputs": [],
   "source": [
    "# q3.hint()\n",
    "# q3.solution()"
   ]
  },
  {
   "cell_type": "markdown",
   "id": "163ac5d8",
   "metadata": {
    "papermill": {
     "duration": 0.010263,
     "end_time": "2023-02-15T14:40:35.006914",
     "exception": false,
     "start_time": "2023-02-15T14:40:34.996651",
     "status": "completed"
    },
    "tags": []
   },
   "source": [
    "# 4.\n",
    "\n",
    "The function `is_negative` below is implemented correctly - it returns True if the given number is negative and False otherwise.\n",
    "\n",
    "However, it's more verbose than it needs to be. We can actually reduce the number of lines of code in this function by *75%* while keeping the same behaviour. \n",
    "\n",
    "See if you can come up with an equivalent body that uses just **one line** of code, and put it in the function `concise_is_negative`. (HINT: you don't even need Python's ternary syntax)"
   ]
  },
  {
   "cell_type": "code",
   "execution_count": 10,
   "id": "86592792",
   "metadata": {
    "execution": {
     "iopub.execute_input": "2023-02-15T14:40:35.029730Z",
     "iopub.status.busy": "2023-02-15T14:40:35.029272Z",
     "iopub.status.idle": "2023-02-15T14:40:35.037701Z",
     "shell.execute_reply": "2023-02-15T14:40:35.036799Z"
    },
    "papermill": {
     "duration": 0.022913,
     "end_time": "2023-02-15T14:40:35.040031",
     "exception": false,
     "start_time": "2023-02-15T14:40:35.017118",
     "status": "completed"
    },
    "tags": []
   },
   "outputs": [
    {
     "data": {
      "application/javascript": [
       "parent.postMessage({\"jupyterEvent\": \"custom.exercise_interaction\", \"data\": {\"outcomeType\": 1, \"valueTowardsCompletion\": 0.2, \"interactionType\": 1, \"questionType\": 2, \"questionId\": \"4_ConciseIsNegative\", \"learnToolsVersion\": \"0.3.4\", \"failureMessage\": \"\", \"exceptionClass\": \"\", \"trace\": \"\"}}, \"*\")"
      ],
      "text/plain": [
       "<IPython.core.display.Javascript object>"
      ]
     },
     "metadata": {},
     "output_type": "display_data"
    },
    {
     "data": {
      "text/markdown": [
       "<span style=\"color:#33cc33\">Correct</span>"
      ],
      "text/plain": [
       "Correct"
      ]
     },
     "metadata": {},
     "output_type": "display_data"
    }
   ],
   "source": [
    "def is_negative(number):\n",
    "    if number < 0:\n",
    "        return True\n",
    "    else:\n",
    "        return False\n",
    "\n",
    "def concise_is_negative(number):\n",
    "    return number<0\n",
    "    pass # Your code goes here (try to keep it to one line!)\n",
    "\n",
    "# Check your answer\n",
    "q4.check()"
   ]
  },
  {
   "cell_type": "code",
   "execution_count": 11,
   "id": "25f703b3",
   "metadata": {
    "execution": {
     "iopub.execute_input": "2023-02-15T14:40:35.063488Z",
     "iopub.status.busy": "2023-02-15T14:40:35.062971Z",
     "iopub.status.idle": "2023-02-15T14:40:35.067733Z",
     "shell.execute_reply": "2023-02-15T14:40:35.066816Z"
    },
    "papermill": {
     "duration": 0.019421,
     "end_time": "2023-02-15T14:40:35.069903",
     "exception": false,
     "start_time": "2023-02-15T14:40:35.050482",
     "status": "completed"
    },
    "tags": []
   },
   "outputs": [],
   "source": [
    "#q4.hint()\n",
    "#q4.solution()"
   ]
  },
  {
   "cell_type": "markdown",
   "id": "109c22b2",
   "metadata": {
    "papermill": {
     "duration": 0.010056,
     "end_time": "2023-02-15T14:40:35.090360",
     "exception": false,
     "start_time": "2023-02-15T14:40:35.080304",
     "status": "completed"
    },
    "tags": []
   },
   "source": [
    "# 5a.\n",
    "\n",
    "The boolean variables `ketchup`, `mustard` and `onion` represent whether a customer wants a particular topping on their hot dog. We want to implement a number of boolean functions that correspond to some yes-or-no questions about the customer's order. For example:"
   ]
  },
  {
   "cell_type": "code",
   "execution_count": 12,
   "id": "e21faad3",
   "metadata": {
    "execution": {
     "iopub.execute_input": "2023-02-15T14:40:35.113529Z",
     "iopub.status.busy": "2023-02-15T14:40:35.113082Z",
     "iopub.status.idle": "2023-02-15T14:40:35.118833Z",
     "shell.execute_reply": "2023-02-15T14:40:35.117617Z"
    },
    "papermill": {
     "duration": 0.020211,
     "end_time": "2023-02-15T14:40:35.121046",
     "exception": false,
     "start_time": "2023-02-15T14:40:35.100835",
     "status": "completed"
    },
    "tags": []
   },
   "outputs": [],
   "source": [
    "def onionless(ketchup, mustard, onion):\n",
    "    \"\"\"Return whether the customer doesn't want onions.\n",
    "    \"\"\"\n",
    "    return not onion"
   ]
  },
  {
   "cell_type": "code",
   "execution_count": 13,
   "id": "938fcfbe",
   "metadata": {
    "execution": {
     "iopub.execute_input": "2023-02-15T14:40:35.144658Z",
     "iopub.status.busy": "2023-02-15T14:40:35.144139Z",
     "iopub.status.idle": "2023-02-15T14:40:35.154474Z",
     "shell.execute_reply": "2023-02-15T14:40:35.153552Z"
    },
    "papermill": {
     "duration": 0.025194,
     "end_time": "2023-02-15T14:40:35.156794",
     "exception": false,
     "start_time": "2023-02-15T14:40:35.131600",
     "status": "completed"
    },
    "tags": []
   },
   "outputs": [
    {
     "data": {
      "application/javascript": [
       "parent.postMessage({\"jupyterEvent\": \"custom.exercise_interaction\", \"data\": {\"outcomeType\": 1, \"valueTowardsCompletion\": 0.2, \"interactionType\": 1, \"questionType\": 2, \"questionId\": \"5.1_AllToppings\", \"learnToolsVersion\": \"0.3.4\", \"failureMessage\": \"\", \"exceptionClass\": \"\", \"trace\": \"\"}}, \"*\")"
      ],
      "text/plain": [
       "<IPython.core.display.Javascript object>"
      ]
     },
     "metadata": {},
     "output_type": "display_data"
    },
    {
     "data": {
      "text/markdown": [
       "<span style=\"color:#33cc33\">Correct</span>"
      ],
      "text/plain": [
       "Correct"
      ]
     },
     "metadata": {},
     "output_type": "display_data"
    }
   ],
   "source": [
    "def wants_all_toppings(ketchup, mustard, onion):\n",
    "    \"\"\"Return whether the customer wants \"the works\" (all 3 toppings)\n",
    "    \"\"\"\n",
    "    return ketchup & mustard &onion\n",
    "    pass\n",
    "\n",
    "# Check your answer\n",
    "q5.a.check()"
   ]
  },
  {
   "cell_type": "code",
   "execution_count": 14,
   "id": "ba8593ad",
   "metadata": {
    "execution": {
     "iopub.execute_input": "2023-02-15T14:40:35.181202Z",
     "iopub.status.busy": "2023-02-15T14:40:35.180738Z",
     "iopub.status.idle": "2023-02-15T14:40:35.185889Z",
     "shell.execute_reply": "2023-02-15T14:40:35.184319Z"
    },
    "papermill": {
     "duration": 0.020539,
     "end_time": "2023-02-15T14:40:35.188420",
     "exception": false,
     "start_time": "2023-02-15T14:40:35.167881",
     "status": "completed"
    },
    "tags": []
   },
   "outputs": [],
   "source": [
    "#q5.a.hint()\n",
    "#q5.a.solution()"
   ]
  },
  {
   "cell_type": "markdown",
   "id": "09e803ce",
   "metadata": {
    "papermill": {
     "duration": 0.010298,
     "end_time": "2023-02-15T14:40:35.209483",
     "exception": false,
     "start_time": "2023-02-15T14:40:35.199185",
     "status": "completed"
    },
    "tags": []
   },
   "source": [
    "# 5b.\n",
    "\n",
    "For the next function, fill in the body to match the English description in the docstring. "
   ]
  },
  {
   "cell_type": "code",
   "execution_count": 15,
   "id": "c379d832",
   "metadata": {
    "execution": {
     "iopub.execute_input": "2023-02-15T14:40:35.232923Z",
     "iopub.status.busy": "2023-02-15T14:40:35.232439Z",
     "iopub.status.idle": "2023-02-15T14:40:35.242905Z",
     "shell.execute_reply": "2023-02-15T14:40:35.241621Z"
    },
    "papermill": {
     "duration": 0.025347,
     "end_time": "2023-02-15T14:40:35.245537",
     "exception": false,
     "start_time": "2023-02-15T14:40:35.220190",
     "status": "completed"
    },
    "tags": []
   },
   "outputs": [
    {
     "data": {
      "application/javascript": [
       "parent.postMessage({\"jupyterEvent\": \"custom.exercise_interaction\", \"data\": {\"outcomeType\": 1, \"valueTowardsCompletion\": 0.2, \"interactionType\": 1, \"questionType\": 2, \"questionId\": \"5.2_PlainDog\", \"learnToolsVersion\": \"0.3.4\", \"failureMessage\": \"\", \"exceptionClass\": \"\", \"trace\": \"\"}}, \"*\")"
      ],
      "text/plain": [
       "<IPython.core.display.Javascript object>"
      ]
     },
     "metadata": {},
     "output_type": "display_data"
    },
    {
     "data": {
      "text/markdown": [
       "<span style=\"color:#33cc33\">Correct:</span> \n",
       "\n",
       "One solution looks like:\n",
       "```python\n",
       "return not ketchup and not mustard and not onion\n",
       "```\n",
       "\n",
       "We can also [\"factor out\" the nots](https://en.wikipedia.org/wiki/De_Morgan%27s_laws) to get:\n",
       "\n",
       "```python\n",
       "return not (ketchup or mustard or onion)\n",
       "```"
      ],
      "text/plain": [
       "Correct: \n",
       "\n",
       "One solution looks like:\n",
       "```python\n",
       "return not ketchup and not mustard and not onion\n",
       "```\n",
       "\n",
       "We can also [\"factor out\" the nots](https://en.wikipedia.org/wiki/De_Morgan%27s_laws) to get:\n",
       "\n",
       "```python\n",
       "return not (ketchup or mustard or onion)\n",
       "```"
      ]
     },
     "metadata": {},
     "output_type": "display_data"
    }
   ],
   "source": [
    "def wants_plain_hotdog(ketchup, mustard, onion):\n",
    "    \"\"\"Return whether the customer wants a plain hot dog with no toppings.\n",
    "    \"\"\"\n",
    "    return not(ketchup|mustard|onion)\n",
    "    pass\n",
    "\n",
    "# Check your answer\n",
    "q5.b.check()"
   ]
  },
  {
   "cell_type": "code",
   "execution_count": 16,
   "id": "938ba29f",
   "metadata": {
    "execution": {
     "iopub.execute_input": "2023-02-15T14:40:35.269735Z",
     "iopub.status.busy": "2023-02-15T14:40:35.269309Z",
     "iopub.status.idle": "2023-02-15T14:40:35.274626Z",
     "shell.execute_reply": "2023-02-15T14:40:35.273196Z"
    },
    "papermill": {
     "duration": 0.020608,
     "end_time": "2023-02-15T14:40:35.277617",
     "exception": false,
     "start_time": "2023-02-15T14:40:35.257009",
     "status": "completed"
    },
    "tags": []
   },
   "outputs": [],
   "source": [
    "# q5.b.hint()\n",
    "# q5.b.solution()"
   ]
  },
  {
   "cell_type": "markdown",
   "id": "133526c7",
   "metadata": {
    "papermill": {
     "duration": 0.011716,
     "end_time": "2023-02-15T14:40:35.300782",
     "exception": false,
     "start_time": "2023-02-15T14:40:35.289066",
     "status": "completed"
    },
    "tags": []
   },
   "source": [
    "# 5c.\n",
    "\n",
    "You know what to do: for the next function, fill in the body to match the English description in the docstring."
   ]
  },
  {
   "cell_type": "code",
   "execution_count": 17,
   "id": "9ebd6462",
   "metadata": {
    "execution": {
     "iopub.execute_input": "2023-02-15T14:40:35.325939Z",
     "iopub.status.busy": "2023-02-15T14:40:35.325502Z",
     "iopub.status.idle": "2023-02-15T14:40:35.335888Z",
     "shell.execute_reply": "2023-02-15T14:40:35.334696Z"
    },
    "papermill": {
     "duration": 0.02571,
     "end_time": "2023-02-15T14:40:35.338256",
     "exception": false,
     "start_time": "2023-02-15T14:40:35.312546",
     "status": "completed"
    },
    "tags": []
   },
   "outputs": [
    {
     "data": {
      "application/javascript": [
       "parent.postMessage({\"jupyterEvent\": \"custom.exercise_interaction\", \"data\": {\"outcomeType\": 1, \"valueTowardsCompletion\": 0.2, \"interactionType\": 1, \"questionType\": 2, \"questionId\": \"5.3_OneSauce\", \"learnToolsVersion\": \"0.3.4\", \"failureMessage\": \"\", \"exceptionClass\": \"\", \"trace\": \"\"}}, \"*\")"
      ],
      "text/plain": [
       "<IPython.core.display.Javascript object>"
      ]
     },
     "metadata": {},
     "output_type": "display_data"
    },
    {
     "data": {
      "text/markdown": [
       "<span style=\"color:#33cc33\">Correct</span>"
      ],
      "text/plain": [
       "Correct"
      ]
     },
     "metadata": {},
     "output_type": "display_data"
    }
   ],
   "source": [
    "def exactly_one_sauce(ketchup, mustard, onion):\n",
    "    \"\"\"Return whether the customer wants either ketchup or mustard, but not both.\n",
    "    (You may be familiar with this operation under the name \"exclusive or\")\n",
    "    \"\"\"\n",
    "    return(ketchup and not mustard) or (mustard and not ketchup)\n",
    "pass\n",
    "\n",
    "# Check your answer\n",
    "q5.c.check()"
   ]
  },
  {
   "cell_type": "code",
   "execution_count": 18,
   "id": "f61a421f",
   "metadata": {
    "execution": {
     "iopub.execute_input": "2023-02-15T14:40:35.363253Z",
     "iopub.status.busy": "2023-02-15T14:40:35.362879Z",
     "iopub.status.idle": "2023-02-15T14:40:35.374680Z",
     "shell.execute_reply": "2023-02-15T14:40:35.373771Z"
    },
    "papermill": {
     "duration": 0.026797,
     "end_time": "2023-02-15T14:40:35.376772",
     "exception": false,
     "start_time": "2023-02-15T14:40:35.349975",
     "status": "completed"
    },
    "tags": []
   },
   "outputs": [
    {
     "data": {
      "application/javascript": [
       "parent.postMessage({\"jupyterEvent\": \"custom.exercise_interaction\", \"data\": {\"interactionType\": 2, \"questionType\": 2, \"questionId\": \"5.3_OneSauce\", \"learnToolsVersion\": \"0.3.4\", \"valueTowardsCompletion\": 0.0, \"failureMessage\": \"\", \"exceptionClass\": \"\", \"trace\": \"\", \"outcomeType\": 4}}, \"*\")"
      ],
      "text/plain": [
       "<IPython.core.display.Javascript object>"
      ]
     },
     "metadata": {},
     "output_type": "display_data"
    },
    {
     "data": {
      "text/markdown": [
       "<span style=\"color:#3366cc\">Hint:</span> There are exactly two ways to set ketchup and mustard to make this true. What are they?"
      ],
      "text/plain": [
       "Hint: There are exactly two ways to set ketchup and mustard to make this true. What are they?"
      ]
     },
     "metadata": {},
     "output_type": "display_data"
    },
    {
     "data": {
      "application/javascript": [
       "parent.postMessage({\"jupyterEvent\": \"custom.exercise_interaction\", \"data\": {\"interactionType\": 3, \"questionType\": 2, \"questionId\": \"5.3_OneSauce\", \"learnToolsVersion\": \"0.3.4\", \"valueTowardsCompletion\": 0.0, \"failureMessage\": \"\", \"exceptionClass\": \"\", \"trace\": \"\", \"outcomeType\": 4}}, \"*\")"
      ],
      "text/plain": [
       "<IPython.core.display.Javascript object>"
      ]
     },
     "metadata": {},
     "output_type": "display_data"
    },
    {
     "data": {
      "text/markdown": [
       "<span style=\"color:#33cc99\">Solution:</span> \n",
       "```python\n",
       "return (ketchup and not mustard) or (mustard and not ketchup)\n",
       "```"
      ],
      "text/plain": [
       "Solution: \n",
       "```python\n",
       "return (ketchup and not mustard) or (mustard and not ketchup)\n",
       "```"
      ]
     },
     "metadata": {},
     "output_type": "display_data"
    }
   ],
   "source": [
    "q5.c.hint()\n",
    "q5.c.solution()"
   ]
  },
  {
   "cell_type": "markdown",
   "id": "7d7dabcf",
   "metadata": {
    "papermill": {
     "duration": 0.011707,
     "end_time": "2023-02-15T14:40:35.400773",
     "exception": false,
     "start_time": "2023-02-15T14:40:35.389066",
     "status": "completed"
    },
    "tags": []
   },
   "source": [
    "# 6. <span title=\"A bit spicy\" style=\"color: darkgreen \">🌶️</span>\n",
    "\n",
    "We’ve seen that calling `bool()` on an integer returns `False` if it’s equal to 0 and `True` otherwise. What happens if we call `int()` on a bool? Try it out in the notebook cell below.\n",
    "\n",
    "Can you take advantage of this to write a succinct function that corresponds to the English sentence \"does the customer want exactly one topping?\"?"
   ]
  },
  {
   "cell_type": "code",
   "execution_count": 19,
   "id": "7defe7ef",
   "metadata": {
    "execution": {
     "iopub.execute_input": "2023-02-15T14:40:35.428151Z",
     "iopub.status.busy": "2023-02-15T14:40:35.427738Z",
     "iopub.status.idle": "2023-02-15T14:40:35.436168Z",
     "shell.execute_reply": "2023-02-15T14:40:35.435301Z"
    },
    "papermill": {
     "duration": 0.024692,
     "end_time": "2023-02-15T14:40:35.438678",
     "exception": false,
     "start_time": "2023-02-15T14:40:35.413986",
     "status": "completed"
    },
    "tags": []
   },
   "outputs": [
    {
     "data": {
      "application/javascript": [
       "parent.postMessage({\"jupyterEvent\": \"custom.exercise_interaction\", \"data\": {\"outcomeType\": 1, \"valueTowardsCompletion\": 0.2, \"interactionType\": 1, \"questionType\": 2, \"questionId\": \"6_OneTopping\", \"learnToolsVersion\": \"0.3.4\", \"failureMessage\": \"\", \"exceptionClass\": \"\", \"trace\": \"\"}}, \"*\")"
      ],
      "text/plain": [
       "<IPython.core.display.Javascript object>"
      ]
     },
     "metadata": {},
     "output_type": "display_data"
    },
    {
     "data": {
      "text/markdown": [
       "<span style=\"color:#33cc33\">Correct:</span> \n",
       "\n",
       "This condition would be pretty complicated to express using just `and`, `or` and `not`, but using boolean-to-integer conversion gives us this short solution:\n",
       "```python\n",
       "return (int(ketchup) + int(mustard) + int(onion)) == 1\n",
       "```\n",
       "\n",
       "Fun fact: we don't technically need to call `int` on the arguments. Just by doing addition with booleans, Python implicitly does the integer conversion. So we could also write...\n",
       "\n",
       "```python\n",
       "return (ketchup + mustard + onion) == 1\n",
       "```"
      ],
      "text/plain": [
       "Correct: \n",
       "\n",
       "This condition would be pretty complicated to express using just `and`, `or` and `not`, but using boolean-to-integer conversion gives us this short solution:\n",
       "```python\n",
       "return (int(ketchup) + int(mustard) + int(onion)) == 1\n",
       "```\n",
       "\n",
       "Fun fact: we don't technically need to call `int` on the arguments. Just by doing addition with booleans, Python implicitly does the integer conversion. So we could also write...\n",
       "\n",
       "```python\n",
       "return (ketchup + mustard + onion) == 1\n",
       "```"
      ]
     },
     "metadata": {},
     "output_type": "display_data"
    }
   ],
   "source": [
    "def exactly_one_topping(ketchup, mustard, onion):\n",
    "    \"\"\"Return whether the customer wants exactly one of the three available toppings\n",
    "    on their hot dog.\n",
    "    \"\"\"\n",
    "    return (ketchup and not mustard and not onion) or (not ketchup and not mustard and onion) or (not ketchup and mustard and not onion)\n",
    "    pass\n",
    "\n",
    "# Check your answer\n",
    "q6.check()"
   ]
  },
  {
   "cell_type": "code",
   "execution_count": 20,
   "id": "670bba6d",
   "metadata": {
    "execution": {
     "iopub.execute_input": "2023-02-15T14:40:35.465777Z",
     "iopub.status.busy": "2023-02-15T14:40:35.465395Z",
     "iopub.status.idle": "2023-02-15T14:40:35.468890Z",
     "shell.execute_reply": "2023-02-15T14:40:35.468016Z"
    },
    "papermill": {
     "duration": 0.019813,
     "end_time": "2023-02-15T14:40:35.471104",
     "exception": false,
     "start_time": "2023-02-15T14:40:35.451291",
     "status": "completed"
    },
    "tags": []
   },
   "outputs": [],
   "source": [
    "#q6.hint()\n",
    "#q6.solution()"
   ]
  },
  {
   "cell_type": "markdown",
   "id": "5034d3e2",
   "metadata": {
    "papermill": {
     "duration": 0.012041,
     "end_time": "2023-02-15T14:40:35.495797",
     "exception": false,
     "start_time": "2023-02-15T14:40:35.483756",
     "status": "completed"
    },
    "tags": []
   },
   "source": [
    "# 7. <span title=\"A bit spicy\" style=\"color: darkgreen \">🌶️</span> (Optional)\n",
    "\n",
    "In this problem we'll be working with a simplified version of [blackjack](https://en.wikipedia.org/wiki/Blackjack) (aka twenty-one). In this version there is one player (who you'll control) and a dealer. Play proceeds as follows:\n",
    "\n",
    "- The player is dealt two face-up cards. The dealer is dealt one face-up card.\n",
    "- The player may ask to be dealt another card ('hit') as many times as they wish. If the sum of their cards exceeds 21, they lose the round immediately.\n",
    "- The dealer then deals additional cards to himself until either:\n",
    "    - the sum of the dealer's cards exceeds 21, in which case the player wins the round\n",
    "    - the sum of the dealer's cards is greater than or equal to 17. If the player's total is greater than the dealer's, the player wins. Otherwise, the dealer wins (even in case of a tie).\n",
    "    \n",
    "When calculating the sum of cards, Jack, Queen, and King count for 10. Aces can count as 1 or 11 (when referring to a player's \"total\" above, we mean the largest total that can be made without exceeding 21. So e.g. A+8 = 19, A+8+8 = 17)\n",
    "\n",
    "For this problem, you'll write a function representing the player's decision-making strategy in this game. We've provided a very unintelligent implementation below:"
   ]
  },
  {
   "cell_type": "code",
   "execution_count": 21,
   "id": "fb4f6eb6",
   "metadata": {
    "execution": {
     "iopub.execute_input": "2023-02-15T14:40:35.523502Z",
     "iopub.status.busy": "2023-02-15T14:40:35.522896Z",
     "iopub.status.idle": "2023-02-15T14:40:35.527596Z",
     "shell.execute_reply": "2023-02-15T14:40:35.526670Z"
    },
    "papermill": {
     "duration": 0.021708,
     "end_time": "2023-02-15T14:40:35.530132",
     "exception": false,
     "start_time": "2023-02-15T14:40:35.508424",
     "status": "completed"
    },
    "tags": []
   },
   "outputs": [],
   "source": [
    "def should_hit(dealer_total, player_total, player_low_aces, player_high_aces):\n",
    "    \"\"\"Return True if the player should hit (request another card) given the current game\n",
    "    state, or False if the player should stay.\n",
    "    When calculating a hand's total value, we count aces as \"high\" (with value 11) if doing so\n",
    "    doesn't bring the total above 21, otherwise we count them as low (with value 1). \n",
    "    For example, if the player's hand is {A, A, A, 7}, we will count it as 11 + 1 + 1 + 7,\n",
    "    and therefore set player_total=20, player_low_aces=2, player_high_aces=1.\n",
    "    \"\"\"\n",
    "    return player_total<16"
   ]
  },
  {
   "cell_type": "markdown",
   "id": "3a473b6b",
   "metadata": {
    "papermill": {
     "duration": 0.012901,
     "end_time": "2023-02-15T14:40:35.555766",
     "exception": false,
     "start_time": "2023-02-15T14:40:35.542865",
     "status": "completed"
    },
    "tags": []
   },
   "source": [
    "This very conservative agent *always* sticks with the hand of two cards that they're dealt.\n",
    "\n",
    "We'll be simulating games between your player agent and our own dealer agent by calling your function.\n",
    "\n",
    "Try running the function below to see an example of a simulated game:"
   ]
  },
  {
   "cell_type": "code",
   "execution_count": 22,
   "id": "38c3f557",
   "metadata": {
    "execution": {
     "iopub.execute_input": "2023-02-15T14:40:35.587520Z",
     "iopub.status.busy": "2023-02-15T14:40:35.586649Z",
     "iopub.status.idle": "2023-02-15T14:40:35.593779Z",
     "shell.execute_reply": "2023-02-15T14:40:35.592311Z"
    },
    "papermill": {
     "duration": 0.024016,
     "end_time": "2023-02-15T14:40:35.596207",
     "exception": false,
     "start_time": "2023-02-15T14:40:35.572191",
     "status": "completed"
    },
    "tags": []
   },
   "outputs": [
    {
     "name": "stdout",
     "output_type": "stream",
     "text": [
      "Player starts with 3 and 4 (total = 7)\n",
      "Dealer starts with K\n",
      "\n",
      "__Player's turn__\n",
      "Player hits and receives Q. (total = 17)\n",
      "Player stays\n",
      "\n",
      "__Dealer's turn__\n",
      "Dealer hits and receives 5. (total = 15)\n",
      "Dealer hits and receives 5. (total = 20)\n",
      "Dealer stands.\n",
      "Dealer wins. 20 >= 17\n"
     ]
    }
   ],
   "source": [
    "q7.simulate_one_game()"
   ]
  },
  {
   "cell_type": "markdown",
   "id": "e852dae5",
   "metadata": {
    "papermill": {
     "duration": 0.012264,
     "end_time": "2023-02-15T14:40:35.621091",
     "exception": false,
     "start_time": "2023-02-15T14:40:35.608827",
     "status": "completed"
    },
    "tags": []
   },
   "source": [
    "The real test of your agent's mettle is their average win rate over many games. Try calling the function below to simulate 50000 games of blackjack (it may take a couple seconds):"
   ]
  },
  {
   "cell_type": "code",
   "execution_count": 23,
   "id": "d86e53ac",
   "metadata": {
    "execution": {
     "iopub.execute_input": "2023-02-15T14:40:35.649382Z",
     "iopub.status.busy": "2023-02-15T14:40:35.648499Z",
     "iopub.status.idle": "2023-02-15T14:40:37.467427Z",
     "shell.execute_reply": "2023-02-15T14:40:37.465545Z"
    },
    "papermill": {
     "duration": 1.83635,
     "end_time": "2023-02-15T14:40:37.470433",
     "exception": false,
     "start_time": "2023-02-15T14:40:35.634083",
     "status": "completed"
    },
    "tags": []
   },
   "outputs": [
    {
     "name": "stdout",
     "output_type": "stream",
     "text": [
      "Player won 20560 out of 50000 games (win rate = 41.1%)\n"
     ]
    }
   ],
   "source": [
    "q7.simulate(n_games=50000)"
   ]
  },
  {
   "cell_type": "markdown",
   "id": "069e0f58",
   "metadata": {
    "papermill": {
     "duration": 0.011893,
     "end_time": "2023-02-15T14:40:37.495027",
     "exception": false,
     "start_time": "2023-02-15T14:40:37.483134",
     "status": "completed"
    },
    "tags": []
   },
   "source": [
    "Our dumb agent that completely ignores the game state still manages to win shockingly often!\n",
    "\n",
    "Try adding some more smarts to the `should_hit` function and see how it affects the results."
   ]
  },
  {
   "cell_type": "code",
   "execution_count": 24,
   "id": "413c7033",
   "metadata": {
    "execution": {
     "iopub.execute_input": "2023-02-15T14:40:37.521810Z",
     "iopub.status.busy": "2023-02-15T14:40:37.521278Z",
     "iopub.status.idle": "2023-02-15T14:40:39.209230Z",
     "shell.execute_reply": "2023-02-15T14:40:39.207512Z"
    },
    "papermill": {
     "duration": 1.704471,
     "end_time": "2023-02-15T14:40:39.211854",
     "exception": false,
     "start_time": "2023-02-15T14:40:37.507383",
     "status": "completed"
    },
    "tags": []
   },
   "outputs": [
    {
     "name": "stdout",
     "output_type": "stream",
     "text": [
      "Player won 19164 out of 50000 games (win rate = 38.3%)\n"
     ]
    }
   ],
   "source": [
    "def should_hit(dealer_total, player_total, player_low_aces, player_high_aces):\n",
    "    \"\"\"Return True if the player should hit (request another card) given the current game\n",
    "    state, or False if the player should stay.\n",
    "    When calculating a hand's total value, we count aces as \"high\" (with value 11) if doing so\n",
    "    doesn't bring the total above 21, otherwise we count them as low (with value 1). \n",
    "    For example, if the player's hand is {A, A, A, 7}, we will count it as 11 + 1 + 1 + 7,\n",
    "    and therefore set player_total=20, player_low_aces=2, player_high_aces=1.\n",
    "    \"\"\"\n",
    "    return False\n",
    "\n",
    "q7.simulate(n_games=50000)"
   ]
  },
  {
   "cell_type": "markdown",
   "id": "9920abcc",
   "metadata": {
    "papermill": {
     "duration": 0.011984,
     "end_time": "2023-02-15T14:40:39.236249",
     "exception": false,
     "start_time": "2023-02-15T14:40:39.224265",
     "status": "completed"
    },
    "tags": []
   },
   "source": [
    "# Keep Going\n",
    "\n",
    "Learn about **[lists and tuples](https://www.kaggle.com/colinmorris/lists)** to handle multiple items of data in a systematic way."
   ]
  },
  {
   "cell_type": "markdown",
   "id": "d5c20f88",
   "metadata": {
    "papermill": {
     "duration": 0.011856,
     "end_time": "2023-02-15T14:40:39.260482",
     "exception": false,
     "start_time": "2023-02-15T14:40:39.248626",
     "status": "completed"
    },
    "tags": []
   },
   "source": [
    "---\n",
    "\n",
    "\n",
    "\n",
    "\n",
    "*Have questions or comments? Visit the [course discussion forum](https://www.kaggle.com/learn/python/discussion) to chat with other learners.*"
   ]
  }
 ],
 "metadata": {
  "kernelspec": {
   "display_name": "Python 3",
   "language": "python",
   "name": "python3"
  },
  "language_info": {
   "codemirror_mode": {
    "name": "ipython",
    "version": 3
   },
   "file_extension": ".py",
   "mimetype": "text/x-python",
   "name": "python",
   "nbconvert_exporter": "python",
   "pygments_lexer": "ipython3",
   "version": "3.7.12"
  },
  "papermill": {
   "default_parameters": {},
   "duration": 14.504711,
   "end_time": "2023-02-15T14:40:40.097360",
   "environment_variables": {},
   "exception": null,
   "input_path": "__notebook__.ipynb",
   "output_path": "__notebook__.ipynb",
   "parameters": {},
   "start_time": "2023-02-15T14:40:25.592649",
   "version": "2.3.4"
  }
 },
 "nbformat": 4,
 "nbformat_minor": 5
}
