{
 "cells": [
  {
   "cell_type": "markdown",
   "id": "801eb415",
   "metadata": {
    "papermill": {
     "duration": 0.009273,
     "end_time": "2023-02-16T11:16:52.390494",
     "exception": false,
     "start_time": "2023-02-16T11:16:52.381221",
     "status": "completed"
    },
    "tags": []
   },
   "source": [
    "**This notebook is an exercise in the [Python](https://www.kaggle.com/learn/python) course.  You can reference the tutorial at [this link](https://www.kaggle.com/colinmorris/loops-and-list-comprehensions).**\n",
    "\n",
    "---\n"
   ]
  },
  {
   "cell_type": "markdown",
   "id": "235afb5e",
   "metadata": {
    "papermill": {
     "duration": 0.004997,
     "end_time": "2023-02-16T11:16:52.401070",
     "exception": false,
     "start_time": "2023-02-16T11:16:52.396073",
     "status": "completed"
    },
    "tags": []
   },
   "source": [
    "With all you've learned, you can start writing much more interesting programs. See if you can solve the problems below.\n",
    "\n",
    "As always, run the setup code below before working on the questions."
   ]
  },
  {
   "cell_type": "code",
   "execution_count": 1,
   "id": "7ab7a445",
   "metadata": {
    "execution": {
     "iopub.execute_input": "2023-02-16T11:16:52.414340Z",
     "iopub.status.busy": "2023-02-16T11:16:52.413427Z",
     "iopub.status.idle": "2023-02-16T11:16:52.466151Z",
     "shell.execute_reply": "2023-02-16T11:16:52.464727Z"
    },
    "papermill": {
     "duration": 0.06257,
     "end_time": "2023-02-16T11:16:52.469138",
     "exception": false,
     "start_time": "2023-02-16T11:16:52.406568",
     "status": "completed"
    },
    "tags": []
   },
   "outputs": [
    {
     "name": "stdout",
     "output_type": "stream",
     "text": [
      "Setup complete.\n"
     ]
    }
   ],
   "source": [
    "from learntools.core import binder; binder.bind(globals())\n",
    "from learntools.python.ex5 import *\n",
    "print('Setup complete.')"
   ]
  },
  {
   "cell_type": "markdown",
   "id": "006c7776",
   "metadata": {
    "papermill": {
     "duration": 0.005179,
     "end_time": "2023-02-16T11:16:52.479952",
     "exception": false,
     "start_time": "2023-02-16T11:16:52.474773",
     "status": "completed"
    },
    "tags": []
   },
   "source": [
    "# 1.\n",
    "\n",
    "Have you ever felt debugging involved a bit of luck? The following program has a bug. Try to identify the bug and fix it."
   ]
  },
  {
   "cell_type": "code",
   "execution_count": 2,
   "id": "8b29afad",
   "metadata": {
    "execution": {
     "iopub.execute_input": "2023-02-16T11:16:52.492722Z",
     "iopub.status.busy": "2023-02-16T11:16:52.492275Z",
     "iopub.status.idle": "2023-02-16T11:16:52.498196Z",
     "shell.execute_reply": "2023-02-16T11:16:52.497016Z"
    },
    "papermill": {
     "duration": 0.015281,
     "end_time": "2023-02-16T11:16:52.500578",
     "exception": false,
     "start_time": "2023-02-16T11:16:52.485297",
     "status": "completed"
    },
    "tags": []
   },
   "outputs": [],
   "source": [
    "def has_lucky_number(nums):\n",
    "    \"\"\"Return whether the given list of numbers is lucky. A lucky list contains\n",
    "    at least one number divisible by 7.\n",
    "    \"\"\"\n",
    "    for num in nums:\n",
    "        if num % 7 == 0:\n",
    "            return True\n",
    "        else:\n",
    "            return False"
   ]
  },
  {
   "cell_type": "markdown",
   "id": "fcbca3fa",
   "metadata": {
    "papermill": {
     "duration": 0.005179,
     "end_time": "2023-02-16T11:16:52.511362",
     "exception": false,
     "start_time": "2023-02-16T11:16:52.506183",
     "status": "completed"
    },
    "tags": []
   },
   "source": [
    "Try to identify the bug and fix it in the cell below:"
   ]
  },
  {
   "cell_type": "code",
   "execution_count": 3,
   "id": "c9e767c4",
   "metadata": {
    "execution": {
     "iopub.execute_input": "2023-02-16T11:16:52.523718Z",
     "iopub.status.busy": "2023-02-16T11:16:52.523326Z",
     "iopub.status.idle": "2023-02-16T11:16:52.535902Z",
     "shell.execute_reply": "2023-02-16T11:16:52.534766Z"
    },
    "papermill": {
     "duration": 0.021307,
     "end_time": "2023-02-16T11:16:52.538024",
     "exception": false,
     "start_time": "2023-02-16T11:16:52.516717",
     "status": "completed"
    },
    "tags": []
   },
   "outputs": [
    {
     "data": {
      "application/javascript": [
       "parent.postMessage({\"jupyterEvent\": \"custom.exercise_interaction\", \"data\": {\"outcomeType\": 1, \"valueTowardsCompletion\": 0.25, \"interactionType\": 1, \"questionType\": 2, \"questionId\": \"1_EarlyExitDebugging\", \"learnToolsVersion\": \"0.3.4\", \"failureMessage\": \"\", \"exceptionClass\": \"\", \"trace\": \"\"}}, \"*\")"
      ],
      "text/plain": [
       "<IPython.core.display.Javascript object>"
      ]
     },
     "metadata": {},
     "output_type": "display_data"
    },
    {
     "data": {
      "text/markdown": [
       "<span style=\"color:#33cc33\">Correct:</span> \n",
       "\n",
       "Remember that `return` causes a function to exit immediately. So our original implementation always ran for just one iteration. We can only return `False` if we've looked at every element of the list (and confirmed that none of them are lucky). Though we can return early if the answer is `True`:\n",
       "\n",
       "```python\n",
       "def has_lucky_number(nums):\n",
       "    for num in nums:\n",
       "        if num % 7 == 0:\n",
       "            return True\n",
       "    # We've exhausted the list without finding a lucky number\n",
       "    return False\n",
       "```\n",
       "\n",
       "Here's a one-line version using a list comprehension with Python's `any` function (you can read about what it does by calling `help(any)`):\n",
       "\n",
       "```python\n",
       "def has_lucky_number(nums):\n",
       "    return any([num % 7 == 0 for num in nums])\n",
       "```\n"
      ],
      "text/plain": [
       "Correct: \n",
       "\n",
       "Remember that `return` causes a function to exit immediately. So our original implementation always ran for just one iteration. We can only return `False` if we've looked at every element of the list (and confirmed that none of them are lucky). Though we can return early if the answer is `True`:\n",
       "\n",
       "```python\n",
       "def has_lucky_number(nums):\n",
       "    for num in nums:\n",
       "        if num % 7 == 0:\n",
       "            return True\n",
       "    # We've exhausted the list without finding a lucky number\n",
       "    return False\n",
       "```\n",
       "\n",
       "Here's a one-line version using a list comprehension with Python's `any` function (you can read about what it does by calling `help(any)`):\n",
       "\n",
       "```python\n",
       "def has_lucky_number(nums):\n",
       "    return any([num % 7 == 0 for num in nums])\n",
       "```"
      ]
     },
     "metadata": {},
     "output_type": "display_data"
    }
   ],
   "source": [
    "def has_lucky_number(nums):\n",
    "    \"\"\"Return whether the given list of numbers is lucky. A lucky list contains\n",
    "    at least one number divisible by 7.\n",
    "    \"\"\"\n",
    "    for num in nums:\n",
    "        if num % 7 == 0:\n",
    "            return True\n",
    "    return False\n",
    "\n",
    "# Check your answer\n",
    "q1.check()"
   ]
  },
  {
   "cell_type": "code",
   "execution_count": 4,
   "id": "b0ae1792",
   "metadata": {
    "execution": {
     "iopub.execute_input": "2023-02-16T11:16:52.550588Z",
     "iopub.status.busy": "2023-02-16T11:16:52.550217Z",
     "iopub.status.idle": "2023-02-16T11:16:52.554786Z",
     "shell.execute_reply": "2023-02-16T11:16:52.553685Z"
    },
    "papermill": {
     "duration": 0.013566,
     "end_time": "2023-02-16T11:16:52.557165",
     "exception": false,
     "start_time": "2023-02-16T11:16:52.543599",
     "status": "completed"
    },
    "tags": []
   },
   "outputs": [],
   "source": [
    "#q1.hint()\n",
    "#q1.solution()"
   ]
  },
  {
   "cell_type": "markdown",
   "id": "0f791b4b",
   "metadata": {
    "papermill": {
     "duration": 0.00535,
     "end_time": "2023-02-16T11:16:52.568284",
     "exception": false,
     "start_time": "2023-02-16T11:16:52.562934",
     "status": "completed"
    },
    "tags": []
   },
   "source": [
    "# 2.\n",
    "Look at the Python expression below. What do you think we'll get when we run it? When you've made your prediction, uncomment the code and run the cell to see if you were right."
   ]
  },
  {
   "cell_type": "code",
   "execution_count": 5,
   "id": "4c559a3f",
   "metadata": {
    "execution": {
     "iopub.execute_input": "2023-02-16T11:16:52.581181Z",
     "iopub.status.busy": "2023-02-16T11:16:52.580773Z",
     "iopub.status.idle": "2023-02-16T11:16:52.585112Z",
     "shell.execute_reply": "2023-02-16T11:16:52.584229Z"
    },
    "papermill": {
     "duration": 0.013313,
     "end_time": "2023-02-16T11:16:52.587166",
     "exception": false,
     "start_time": "2023-02-16T11:16:52.573853",
     "status": "completed"
    },
    "tags": []
   },
   "outputs": [],
   "source": [
    "#[1, 2, 3, 4] > 2"
   ]
  },
  {
   "cell_type": "markdown",
   "id": "69c40e00",
   "metadata": {
    "papermill": {
     "duration": 0.005317,
     "end_time": "2023-02-16T11:16:52.598173",
     "exception": false,
     "start_time": "2023-02-16T11:16:52.592856",
     "status": "completed"
    },
    "tags": []
   },
   "source": [
    "R and Python have some libraries (like numpy and pandas) compare each element of the list to 2 (i.e. do an 'element-wise' comparison) and give us a list of booleans like `[False, False, True, True]`. \n",
    "\n",
    "Implement a function that reproduces this behaviour, returning a list of booleans corresponding to whether the corresponding element is greater than n."
   ]
  },
  {
   "cell_type": "code",
   "execution_count": 6,
   "id": "7438e2b0",
   "metadata": {
    "execution": {
     "iopub.execute_input": "2023-02-16T11:16:52.611188Z",
     "iopub.status.busy": "2023-02-16T11:16:52.610762Z",
     "iopub.status.idle": "2023-02-16T11:16:52.620198Z",
     "shell.execute_reply": "2023-02-16T11:16:52.619038Z"
    },
    "papermill": {
     "duration": 0.018587,
     "end_time": "2023-02-16T11:16:52.622357",
     "exception": false,
     "start_time": "2023-02-16T11:16:52.603770",
     "status": "completed"
    },
    "tags": []
   },
   "outputs": [
    {
     "data": {
      "application/javascript": [
       "parent.postMessage({\"jupyterEvent\": \"custom.exercise_interaction\", \"data\": {\"outcomeType\": 1, \"valueTowardsCompletion\": 0.25, \"interactionType\": 1, \"questionType\": 2, \"questionId\": \"2_ElementWiseComparison\", \"learnToolsVersion\": \"0.3.4\", \"failureMessage\": \"\", \"exceptionClass\": \"\", \"trace\": \"\"}}, \"*\")"
      ],
      "text/plain": [
       "<IPython.core.display.Javascript object>"
      ]
     },
     "metadata": {},
     "output_type": "display_data"
    },
    {
     "data": {
      "text/markdown": [
       "<span style=\"color:#33cc33\">Correct:</span> \n",
       "\n",
       "Here's one solution:\n",
       "```python\n",
       "def elementwise_greater_than(L, thresh):\n",
       "    res = []\n",
       "    for ele in L:\n",
       "        res.append(ele > thresh)\n",
       "    return res\n",
       "```\n",
       "\n",
       "And here's the list comprehension version:\n",
       "```python\n",
       "def elementwise_greater_than(L, thresh):\n",
       "    return [ele > thresh for ele in L]\n",
       "```\n"
      ],
      "text/plain": [
       "Correct: \n",
       "\n",
       "Here's one solution:\n",
       "```python\n",
       "def elementwise_greater_than(L, thresh):\n",
       "    res = []\n",
       "    for ele in L:\n",
       "        res.append(ele > thresh)\n",
       "    return res\n",
       "```\n",
       "\n",
       "And here's the list comprehension version:\n",
       "```python\n",
       "def elementwise_greater_than(L, thresh):\n",
       "    return [ele > thresh for ele in L]\n",
       "```"
      ]
     },
     "metadata": {},
     "output_type": "display_data"
    }
   ],
   "source": [
    "def elementwise_greater_than(L, thresh):\n",
    "    \"\"\"Return a list with the same length as L, where the value at index i is \n",
    "    True if L[i] is greater than thresh, and False otherwise.\n",
    "    \n",
    "    >>> elementwise_greater_than([1, 2, 3, 4], 2)\n",
    "    [False, False, True, True]\n",
    "    \"\"\"\n",
    "    return [num > thresh for num in L]\n",
    "    pass\n",
    "\n",
    "# Check your answer\n",
    "q2.check()"
   ]
  },
  {
   "cell_type": "code",
   "execution_count": 7,
   "id": "d34d6119",
   "metadata": {
    "execution": {
     "iopub.execute_input": "2023-02-16T11:16:52.636368Z",
     "iopub.status.busy": "2023-02-16T11:16:52.635686Z",
     "iopub.status.idle": "2023-02-16T11:16:52.639417Z",
     "shell.execute_reply": "2023-02-16T11:16:52.638689Z"
    },
    "papermill": {
     "duration": 0.012976,
     "end_time": "2023-02-16T11:16:52.641373",
     "exception": false,
     "start_time": "2023-02-16T11:16:52.628397",
     "status": "completed"
    },
    "tags": []
   },
   "outputs": [],
   "source": [
    "#q2.solution()"
   ]
  },
  {
   "cell_type": "markdown",
   "id": "5776796d",
   "metadata": {
    "papermill": {
     "duration": 0.005929,
     "end_time": "2023-02-16T11:16:52.653460",
     "exception": false,
     "start_time": "2023-02-16T11:16:52.647531",
     "status": "completed"
    },
    "tags": []
   },
   "source": [
    "# 3.\n",
    "\n",
    "Complete the body of the function below according to its docstring."
   ]
  },
  {
   "cell_type": "code",
   "execution_count": 8,
   "id": "b9782fef",
   "metadata": {
    "execution": {
     "iopub.execute_input": "2023-02-16T11:16:52.667314Z",
     "iopub.status.busy": "2023-02-16T11:16:52.666904Z",
     "iopub.status.idle": "2023-02-16T11:16:52.677959Z",
     "shell.execute_reply": "2023-02-16T11:16:52.677083Z"
    },
    "papermill": {
     "duration": 0.020678,
     "end_time": "2023-02-16T11:16:52.680204",
     "exception": false,
     "start_time": "2023-02-16T11:16:52.659526",
     "status": "completed"
    },
    "tags": []
   },
   "outputs": [
    {
     "data": {
      "application/javascript": [
       "parent.postMessage({\"jupyterEvent\": \"custom.exercise_interaction\", \"data\": {\"outcomeType\": 1, \"valueTowardsCompletion\": 0.25, \"interactionType\": 1, \"questionType\": 2, \"questionId\": \"3_BoringMenu\", \"learnToolsVersion\": \"0.3.4\", \"failureMessage\": \"\", \"exceptionClass\": \"\", \"trace\": \"\"}}, \"*\")"
      ],
      "text/plain": [
       "<IPython.core.display.Javascript object>"
      ]
     },
     "metadata": {},
     "output_type": "display_data"
    },
    {
     "data": {
      "text/markdown": [
       "<span style=\"color:#33cc33\">Correct:</span> \n",
       "\n",
       "\n",
       "\n",
       "```python\n",
       "def menu_is_boring(meals):\n",
       "    # Iterate over all indices of the list, except the last one\n",
       "    for i in range(len(meals)-1):\n",
       "        if meals[i] == meals[i+1]:\n",
       "            return True\n",
       "    return False\n",
       "```\n",
       "\n",
       "The key to our solution is the call to `range`. `range(len(meals))` would give us all the indices of `meals`. If we had used that range, the last iteration of the loop would be comparing the last element to the element after it, which is... `IndexError`! `range(len(meals)-1)` gives us all the indices except the index of the last element.\n",
       "\n",
       "But don't we need to check if `meals` is empty? Turns out that `range(0) == range(-1)` - they're both empty. So if `meals` has length 0 or 1, we just won't do any iterations of our for loop.\n"
      ],
      "text/plain": [
       "Correct: \n",
       "\n",
       "\n",
       "\n",
       "```python\n",
       "def menu_is_boring(meals):\n",
       "    # Iterate over all indices of the list, except the last one\n",
       "    for i in range(len(meals)-1):\n",
       "        if meals[i] == meals[i+1]:\n",
       "            return True\n",
       "    return False\n",
       "```\n",
       "\n",
       "The key to our solution is the call to `range`. `range(len(meals))` would give us all the indices of `meals`. If we had used that range, the last iteration of the loop would be comparing the last element to the element after it, which is... `IndexError`! `range(len(meals)-1)` gives us all the indices except the index of the last element.\n",
       "\n",
       "But don't we need to check if `meals` is empty? Turns out that `range(0) == range(-1)` - they're both empty. So if `meals` has length 0 or 1, we just won't do any iterations of our for loop."
      ]
     },
     "metadata": {},
     "output_type": "display_data"
    }
   ],
   "source": [
    "def menu_is_boring(meals):\n",
    "    \"\"\"Given a list of meals served over some period of time, return True if the\n",
    "    same meal has ever been served two days in a row, and False otherwise.\n",
    "    \"\"\"\n",
    "    return sum([meals[i] == meals[i+1] for i in range(len(meals)-1)]) >= 1\n",
    "\n",
    "# Check your answer\n",
    "q3.check()"
   ]
  },
  {
   "cell_type": "code",
   "execution_count": 9,
   "id": "af041a7a",
   "metadata": {
    "execution": {
     "iopub.execute_input": "2023-02-16T11:16:52.695206Z",
     "iopub.status.busy": "2023-02-16T11:16:52.694399Z",
     "iopub.status.idle": "2023-02-16T11:16:52.698734Z",
     "shell.execute_reply": "2023-02-16T11:16:52.697772Z"
    },
    "papermill": {
     "duration": 0.014478,
     "end_time": "2023-02-16T11:16:52.701086",
     "exception": false,
     "start_time": "2023-02-16T11:16:52.686608",
     "status": "completed"
    },
    "tags": []
   },
   "outputs": [],
   "source": [
    "#q3.hint()\n",
    "#q3.solution()"
   ]
  },
  {
   "cell_type": "markdown",
   "id": "6057aeea",
   "metadata": {
    "papermill": {
     "duration": 0.006177,
     "end_time": "2023-02-16T11:16:52.713893",
     "exception": false,
     "start_time": "2023-02-16T11:16:52.707716",
     "status": "completed"
    },
    "tags": []
   },
   "source": [
    "# 4. <span title=\"A bit spicy\" style=\"color: darkgreen \">🌶️</span>\n",
    "\n",
    "Next to the Blackjack table, the Python Challenge Casino has a slot machine. You can get a result from the slot machine by calling `play_slot_machine()`. The number it returns is your winnings in dollars. Usually it returns 0.  But sometimes you'll get lucky and get a big payday. Try running it below:"
   ]
  },
  {
   "cell_type": "code",
   "execution_count": 10,
   "id": "e36726dc",
   "metadata": {
    "execution": {
     "iopub.execute_input": "2023-02-16T11:16:52.728337Z",
     "iopub.status.busy": "2023-02-16T11:16:52.727932Z",
     "iopub.status.idle": "2023-02-16T11:16:52.734189Z",
     "shell.execute_reply": "2023-02-16T11:16:52.733360Z"
    },
    "papermill": {
     "duration": 0.015949,
     "end_time": "2023-02-16T11:16:52.736174",
     "exception": false,
     "start_time": "2023-02-16T11:16:52.720225",
     "status": "completed"
    },
    "tags": []
   },
   "outputs": [
    {
     "data": {
      "text/plain": [
       "0"
      ]
     },
     "execution_count": 10,
     "metadata": {},
     "output_type": "execute_result"
    }
   ],
   "source": [
    "play_slot_machine()"
   ]
  },
  {
   "cell_type": "markdown",
   "id": "e22ae272",
   "metadata": {
    "papermill": {
     "duration": 0.006429,
     "end_time": "2023-02-16T11:16:52.749423",
     "exception": false,
     "start_time": "2023-02-16T11:16:52.742994",
     "status": "completed"
    },
    "tags": []
   },
   "source": [
    "By the way, did we mention that each play costs $1? Don't worry, we'll send you the bill later.\n",
    "\n",
    "On average, how much money can you expect to gain (or lose) every time you play the machine?  The casino keeps it a secret, but you can estimate the average value of each pull using a technique called the **Monte Carlo method**. To estimate the average outcome, we simulate the scenario many times, and return the average result.\n",
    "\n",
    "Complete the following function to calculate the average value per play of the slot machine."
   ]
  },
  {
   "cell_type": "code",
   "execution_count": 11,
   "id": "45c6c96d",
   "metadata": {
    "execution": {
     "iopub.execute_input": "2023-02-16T11:16:52.764304Z",
     "iopub.status.busy": "2023-02-16T11:16:52.763892Z",
     "iopub.status.idle": "2023-02-16T11:16:52.769085Z",
     "shell.execute_reply": "2023-02-16T11:16:52.768188Z"
    },
    "papermill": {
     "duration": 0.0152,
     "end_time": "2023-02-16T11:16:52.771105",
     "exception": false,
     "start_time": "2023-02-16T11:16:52.755905",
     "status": "completed"
    },
    "tags": []
   },
   "outputs": [],
   "source": [
    "def estimate_average_slot_payout(n_runs):\n",
    "    \"\"\"Run the slot machine n_runs times and return the average net profit per run.\n",
    "    Example calls (note that return value is nondeterministic!):\n",
    "    >>> estimate_average_slot_payout(1)\n",
    "    -1\n",
    "    >>> estimate_average_slot_payout(1)\n",
    "    0.5\n",
    "    \"\"\"\n",
    "    s = 0\n",
    "    for n in n_runs:\n",
    "        s+=play_slot_machine()-1\n",
    "    return s/n_runs  \n",
    "  "
   ]
  },
  {
   "cell_type": "markdown",
   "id": "38fade73",
   "metadata": {
    "papermill": {
     "duration": 0.00707,
     "end_time": "2023-02-16T11:16:52.785777",
     "exception": false,
     "start_time": "2023-02-16T11:16:52.778707",
     "status": "completed"
    },
    "tags": []
   },
   "source": [
    "When you think you know the expected value per spin, run the code cell below to view the solution and get credit for answering the question."
   ]
  },
  {
   "cell_type": "code",
   "execution_count": 12,
   "id": "e0df8b33",
   "metadata": {
    "execution": {
     "iopub.execute_input": "2023-02-16T11:16:52.800895Z",
     "iopub.status.busy": "2023-02-16T11:16:52.800456Z",
     "iopub.status.idle": "2023-02-16T11:16:52.809509Z",
     "shell.execute_reply": "2023-02-16T11:16:52.808403Z"
    },
    "papermill": {
     "duration": 0.019139,
     "end_time": "2023-02-16T11:16:52.811668",
     "exception": false,
     "start_time": "2023-02-16T11:16:52.792529",
     "status": "completed"
    },
    "tags": []
   },
   "outputs": [
    {
     "data": {
      "application/javascript": [
       "parent.postMessage({\"jupyterEvent\": \"custom.exercise_interaction\", \"data\": {\"interactionType\": 3, \"questionType\": 4, \"questionId\": \"4_ExpectedSlotsPayout\", \"learnToolsVersion\": \"0.3.4\", \"valueTowardsCompletion\": 0.0, \"failureMessage\": \"\", \"exceptionClass\": \"\", \"trace\": \"\", \"outcomeType\": 4}}, \"*\")"
      ],
      "text/plain": [
       "<IPython.core.display.Javascript object>"
      ]
     },
     "metadata": {},
     "output_type": "display_data"
    },
    {
     "data": {
      "text/markdown": [
       "<span style=\"color:#33cc99\">Solution:</span> \n",
       "    \n",
       "The exact expected value of one pull of the slot machine is 0.025 - i.e. a little more than 2 cents.  See?  Not every game in the Python Challenge Casino is rigged against the player!\n",
       "\n",
       "In order to get this answer, you'll need to implement the `estimate_average_slot_payout(n_runs)` function to simulate pulling the slot machine `n_runs` times.  It should return the payout averaged over those `n_runs`.\n",
       "\n",
       "Then, once the function is defined, in order to estimate the average slot payout, we need only call the function.\n",
       "\n",
       "Because of the high variance of the outcome (there are some very rare high payout results that significantly affect the average) you might need to run your function with a very high value of `n_runs` to get a stable answer close to the true expectation.  For instance, you might use a value for `n_runs` of 1000000.\n",
       "\n",
       "Here's an example for how the function could look:\n",
       "```python\n",
       "def estimate_average_slot_payout(n_runs):\n",
       "    # Play slot machine n_runs times, calculate payout of each\n",
       "    payouts = [play_slot_machine()-1 for i in range(n_runs)]\n",
       "    # Calculate the average value\n",
       "    avg_payout = sum(payouts) / n_runs\n",
       "    return avg_payout\n",
       "    \n",
       "estimate_average_slot_payout(10000000)\n",
       "\n",
       "```\n",
       "\n",
       "This should return an answer close to 0.025!\n",
       "            \n"
      ],
      "text/plain": [
       "Solution: \n",
       "    \n",
       "The exact expected value of one pull of the slot machine is 0.025 - i.e. a little more than 2 cents.  See?  Not every game in the Python Challenge Casino is rigged against the player!\n",
       "\n",
       "In order to get this answer, you'll need to implement the `estimate_average_slot_payout(n_runs)` function to simulate pulling the slot machine `n_runs` times.  It should return the payout averaged over those `n_runs`.\n",
       "\n",
       "Then, once the function is defined, in order to estimate the average slot payout, we need only call the function.\n",
       "\n",
       "Because of the high variance of the outcome (there are some very rare high payout results that significantly affect the average) you might need to run your function with a very high value of `n_runs` to get a stable answer close to the true expectation.  For instance, you might use a value for `n_runs` of 1000000.\n",
       "\n",
       "Here's an example for how the function could look:\n",
       "```python\n",
       "def estimate_average_slot_payout(n_runs):\n",
       "    # Play slot machine n_runs times, calculate payout of each\n",
       "    payouts = [play_slot_machine()-1 for i in range(n_runs)]\n",
       "    # Calculate the average value\n",
       "    avg_payout = sum(payouts) / n_runs\n",
       "    return avg_payout\n",
       "    \n",
       "estimate_average_slot_payout(10000000)\n",
       "\n",
       "```\n",
       "\n",
       "This should return an answer close to 0.025!\n",
       "            "
      ]
     },
     "metadata": {},
     "output_type": "display_data"
    }
   ],
   "source": [
    "# Check your answer (Run this code cell to receive credit!)\n",
    "q4.solution()"
   ]
  },
  {
   "cell_type": "markdown",
   "id": "945815d4",
   "metadata": {
    "papermill": {
     "duration": 0.006688,
     "end_time": "2023-02-16T11:16:52.825265",
     "exception": false,
     "start_time": "2023-02-16T11:16:52.818577",
     "status": "completed"
    },
    "tags": []
   },
   "source": [
    "# Keep Going\n",
    "\n",
    "Many programmers report that dictionaries are their favorite data structure. You'll get to **[learn about them](https://www.kaggle.com/colinmorris/strings-and-dictionaries)** (as well as strings) in the next lesson."
   ]
  },
  {
   "cell_type": "markdown",
   "id": "5ad8106f",
   "metadata": {
    "papermill": {
     "duration": 0.006604,
     "end_time": "2023-02-16T11:16:52.838879",
     "exception": false,
     "start_time": "2023-02-16T11:16:52.832275",
     "status": "completed"
    },
    "tags": []
   },
   "source": [
    "---\n",
    "\n",
    "\n",
    "\n",
    "\n",
    "*Have questions or comments? Visit the [course discussion forum](https://www.kaggle.com/learn/python/discussion) to chat with other learners.*"
   ]
  }
 ],
 "metadata": {
  "kernelspec": {
   "display_name": "Python 3",
   "language": "python",
   "name": "python3"
  },
  "language_info": {
   "codemirror_mode": {
    "name": "ipython",
    "version": 3
   },
   "file_extension": ".py",
   "mimetype": "text/x-python",
   "name": "python",
   "nbconvert_exporter": "python",
   "pygments_lexer": "ipython3",
   "version": "3.7.12"
  },
  "papermill": {
   "default_parameters": {},
   "duration": 9.590438,
   "end_time": "2023-02-16T11:16:53.467200",
   "environment_variables": {},
   "exception": null,
   "input_path": "__notebook__.ipynb",
   "output_path": "__notebook__.ipynb",
   "parameters": {},
   "start_time": "2023-02-16T11:16:43.876762",
   "version": "2.3.4"
  }
 },
 "nbformat": 4,
 "nbformat_minor": 5
}
