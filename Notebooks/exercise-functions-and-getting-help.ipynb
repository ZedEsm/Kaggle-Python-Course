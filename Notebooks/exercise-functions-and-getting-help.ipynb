{
 "cells": [
  {
   "cell_type": "markdown",
   "id": "29769925",
   "metadata": {
    "papermill": {
     "duration": 0.010026,
     "end_time": "2023-02-15T11:01:04.198844",
     "exception": false,
     "start_time": "2023-02-15T11:01:04.188818",
     "status": "completed"
    },
    "tags": []
   },
   "source": [
    "**This notebook is an exercise in the [Python](https://www.kaggle.com/learn/python) course.  You can reference the tutorial at [this link](https://www.kaggle.com/colinmorris/functions-and-getting-help).**\n",
    "\n",
    "---\n"
   ]
  },
  {
   "cell_type": "markdown",
   "id": "e27f5793",
   "metadata": {
    "papermill": {
     "duration": 0.00493,
     "end_time": "2023-02-15T11:01:04.209301",
     "exception": false,
     "start_time": "2023-02-15T11:01:04.204371",
     "status": "completed"
    },
    "tags": []
   },
   "source": [
    "Functions are powerful. Try writing some yourself.\n",
    "\n",
    "As before, don't forget to run the setup code below before jumping into question 1."
   ]
  },
  {
   "cell_type": "code",
   "execution_count": 1,
   "id": "c885b531",
   "metadata": {
    "_kg_hide-input": true,
    "_kg_hide-output": true,
    "execution": {
     "iopub.execute_input": "2023-02-15T11:01:04.222744Z",
     "iopub.status.busy": "2023-02-15T11:01:04.222163Z",
     "iopub.status.idle": "2023-02-15T11:01:04.286195Z",
     "shell.execute_reply": "2023-02-15T11:01:04.284858Z"
    },
    "papermill": {
     "duration": 0.074589,
     "end_time": "2023-02-15T11:01:04.289539",
     "exception": false,
     "start_time": "2023-02-15T11:01:04.214950",
     "status": "completed"
    },
    "tags": []
   },
   "outputs": [
    {
     "name": "stdout",
     "output_type": "stream",
     "text": [
      "Setup complete.\n"
     ]
    }
   ],
   "source": [
    "# SETUP. You don't need to worry for now about what this code does or how it works.\n",
    "from learntools.core import binder; binder.bind(globals())\n",
    "from learntools.python.ex2 import *\n",
    "print('Setup complete.')"
   ]
  },
  {
   "cell_type": "markdown",
   "id": "089e99dc",
   "metadata": {
    "papermill": {
     "duration": 0.004936,
     "end_time": "2023-02-15T11:01:04.300081",
     "exception": false,
     "start_time": "2023-02-15T11:01:04.295145",
     "status": "completed"
    },
    "tags": []
   },
   "source": [
    "# 1.\n",
    "\n",
    "Complete the body of the following function according to its docstring.\n",
    "\n",
    "HINT: Python has a built-in function `round`."
   ]
  },
  {
   "cell_type": "code",
   "execution_count": 2,
   "id": "1bd4268d",
   "metadata": {
    "execution": {
     "iopub.execute_input": "2023-02-15T11:01:04.313896Z",
     "iopub.status.busy": "2023-02-15T11:01:04.313261Z",
     "iopub.status.idle": "2023-02-15T11:01:04.328879Z",
     "shell.execute_reply": "2023-02-15T11:01:04.327603Z"
    },
    "papermill": {
     "duration": 0.025557,
     "end_time": "2023-02-15T11:01:04.331567",
     "exception": false,
     "start_time": "2023-02-15T11:01:04.306010",
     "status": "completed"
    },
    "tags": []
   },
   "outputs": [
    {
     "data": {
      "application/javascript": [
       "parent.postMessage({\"jupyterEvent\": \"custom.exercise_interaction\", \"data\": {\"outcomeType\": 1, \"valueTowardsCompletion\": 0.16666666666666666, \"interactionType\": 1, \"questionType\": 2, \"questionId\": \"1_RoundFunctionProblem\", \"learnToolsVersion\": \"0.3.4\", \"failureMessage\": \"\", \"exceptionClass\": \"\", \"trace\": \"\"}}, \"*\")"
      ],
      "text/plain": [
       "<IPython.core.display.Javascript object>"
      ]
     },
     "metadata": {},
     "output_type": "display_data"
    },
    {
     "data": {
      "text/markdown": [
       "<span style=\"color:#33cc33\">Correct</span>"
      ],
      "text/plain": [
       "Correct"
      ]
     },
     "metadata": {},
     "output_type": "display_data"
    }
   ],
   "source": [
    "def round_to_two_places(num):\n",
    "    \"\"\"Return the given number rounded to two decimal places. \n",
    "    \n",
    "    >>> round_to_two_places(3.14159)\n",
    "    3.14\n",
    "    \"\"\"\n",
    "    # Replace this body with your own code.\n",
    "    # (\"pass\" is a keyword that does literally nothing. We used it as a placeholder\n",
    "    # because after we begin a code block, Python requires at least one line of code)\n",
    "    return round(num,2)\n",
    "\n",
    "# Check your answer\n",
    "q1.check()"
   ]
  },
  {
   "cell_type": "code",
   "execution_count": 3,
   "id": "fd78c02c",
   "metadata": {
    "execution": {
     "iopub.execute_input": "2023-02-15T11:01:04.346006Z",
     "iopub.status.busy": "2023-02-15T11:01:04.345096Z",
     "iopub.status.idle": "2023-02-15T11:01:04.350338Z",
     "shell.execute_reply": "2023-02-15T11:01:04.349191Z"
    },
    "papermill": {
     "duration": 0.015603,
     "end_time": "2023-02-15T11:01:04.353066",
     "exception": false,
     "start_time": "2023-02-15T11:01:04.337463",
     "status": "completed"
    },
    "tags": []
   },
   "outputs": [],
   "source": [
    "# Uncomment the following for a hint\n",
    "#q1.hint()\n",
    "# Or uncomment the following to peek at the solution\n",
    "#q1.solution()"
   ]
  },
  {
   "cell_type": "markdown",
   "id": "43cdaab6",
   "metadata": {
    "papermill": {
     "duration": 0.005665,
     "end_time": "2023-02-15T11:01:04.364336",
     "exception": false,
     "start_time": "2023-02-15T11:01:04.358671",
     "status": "completed"
    },
    "tags": []
   },
   "source": [
    "# 2.\n",
    "The help for `round` says that `ndigits` (the second argument) may be negative.\n",
    "What do you think will happen when it is? Try some examples in the following cell."
   ]
  },
  {
   "cell_type": "code",
   "execution_count": 4,
   "id": "657db098",
   "metadata": {
    "execution": {
     "iopub.execute_input": "2023-02-15T11:01:04.378080Z",
     "iopub.status.busy": "2023-02-15T11:01:04.377560Z",
     "iopub.status.idle": "2023-02-15T11:01:04.383466Z",
     "shell.execute_reply": "2023-02-15T11:01:04.382077Z"
    },
    "papermill": {
     "duration": 0.016404,
     "end_time": "2023-02-15T11:01:04.386458",
     "exception": false,
     "start_time": "2023-02-15T11:01:04.370054",
     "status": "completed"
    },
    "tags": []
   },
   "outputs": [
    {
     "name": "stdout",
     "output_type": "stream",
     "text": [
      "68000.0\n"
     ]
    }
   ],
   "source": [
    "# Put your test code here\n",
    "print(round(68079.068,-3))"
   ]
  },
  {
   "cell_type": "markdown",
   "id": "666438dc",
   "metadata": {
    "papermill": {
     "duration": 0.005756,
     "end_time": "2023-02-15T11:01:04.397807",
     "exception": false,
     "start_time": "2023-02-15T11:01:04.392051",
     "status": "completed"
    },
    "tags": []
   },
   "source": [
    "Can you think of a case where this would be useful?  Once you're ready, run the code cell below to see the answer and to receive credit for completing the problem."
   ]
  },
  {
   "cell_type": "code",
   "execution_count": 5,
   "id": "66c872de",
   "metadata": {
    "execution": {
     "iopub.execute_input": "2023-02-15T11:01:04.411300Z",
     "iopub.status.busy": "2023-02-15T11:01:04.410719Z",
     "iopub.status.idle": "2023-02-15T11:01:04.419680Z",
     "shell.execute_reply": "2023-02-15T11:01:04.418788Z"
    },
    "papermill": {
     "duration": 0.018309,
     "end_time": "2023-02-15T11:01:04.421915",
     "exception": false,
     "start_time": "2023-02-15T11:01:04.403606",
     "status": "completed"
    },
    "tags": []
   },
   "outputs": [
    {
     "data": {
      "application/javascript": [
       "parent.postMessage({\"jupyterEvent\": \"custom.exercise_interaction\", \"data\": {\"interactionType\": 3, \"questionType\": 4, \"questionId\": \"2_RoundNdigitsProblem\", \"learnToolsVersion\": \"0.3.4\", \"valueTowardsCompletion\": 0.0, \"failureMessage\": \"\", \"exceptionClass\": \"\", \"trace\": \"\", \"outcomeType\": 4}}, \"*\")"
      ],
      "text/plain": [
       "<IPython.core.display.Javascript object>"
      ]
     },
     "metadata": {},
     "output_type": "display_data"
    },
    {
     "data": {
      "text/markdown": [
       "<span style=\"color:#33cc99\">Solution:</span> As you've seen, `ndigits=-1` rounds to the nearest 10, `ndigits=-2` rounds to the nearest 100 and so on. Where might this be useful? Suppose we're dealing with large numbers:\n",
       "\n",
       "> The area of Finland is 338,424 km²  \n",
       "> The area of Greenland is 2,166,086 km²\n",
       "\n",
       "We probably don't care whether it's really 338,424, or 338,425, or 338,177. All those digits of accuracy are just distracting. We can chop them off by calling `round()` with `ndigits=-3`:\n",
       "\n",
       "> The area of Finland is 338,000 km²  \n",
       "> The area of Greenland is 2,166,000 km²\n",
       "\n",
       "(We'll talk about how we would get the commas later when we talk about string formatting :))\n"
      ],
      "text/plain": [
       "Solution: As you've seen, `ndigits=-1` rounds to the nearest 10, `ndigits=-2` rounds to the nearest 100 and so on. Where might this be useful? Suppose we're dealing with large numbers:\n",
       "\n",
       "> The area of Finland is 338,424 km²  \n",
       "> The area of Greenland is 2,166,086 km²\n",
       "\n",
       "We probably don't care whether it's really 338,424, or 338,425, or 338,177. All those digits of accuracy are just distracting. We can chop them off by calling `round()` with `ndigits=-3`:\n",
       "\n",
       "> The area of Finland is 338,000 km²  \n",
       "> The area of Greenland is 2,166,000 km²\n",
       "\n",
       "(We'll talk about how we would get the commas later when we talk about string formatting :))"
      ]
     },
     "metadata": {},
     "output_type": "display_data"
    }
   ],
   "source": [
    "# Check your answer (Run this code cell to receive credit!)\n",
    "q2.solution()"
   ]
  },
  {
   "cell_type": "markdown",
   "id": "e8d9ecd0",
   "metadata": {
    "papermill": {
     "duration": 0.005743,
     "end_time": "2023-02-15T11:01:04.433509",
     "exception": false,
     "start_time": "2023-02-15T11:01:04.427766",
     "status": "completed"
    },
    "tags": []
   },
   "source": [
    "# 3.\n",
    "\n",
    "In the previous exercise, the candy-sharing friends Alice, Bob and Carol tried to split candies evenly. For the sake of their friendship, any candies left over would be smashed. For example, if they collectively bring home 91 candies, they'll take 30 each and smash 1.\n",
    "\n",
    "Below is a simple function that will calculate the number of candies to smash for *any* number of total candies.\n",
    "\n",
    "Modify it so that it optionally takes a second argument representing the number of friends the candies are being split between. If no second argument is provided, it should assume 3 friends, as before.\n",
    "\n",
    "Update the docstring to reflect this new behaviour."
   ]
  },
  {
   "cell_type": "code",
   "execution_count": 6,
   "id": "9a83fb3c",
   "metadata": {
    "execution": {
     "iopub.execute_input": "2023-02-15T11:01:04.448634Z",
     "iopub.status.busy": "2023-02-15T11:01:04.447803Z",
     "iopub.status.idle": "2023-02-15T11:01:04.458500Z",
     "shell.execute_reply": "2023-02-15T11:01:04.456996Z"
    },
    "papermill": {
     "duration": 0.021486,
     "end_time": "2023-02-15T11:01:04.461446",
     "exception": false,
     "start_time": "2023-02-15T11:01:04.439960",
     "status": "completed"
    },
    "tags": []
   },
   "outputs": [
    {
     "data": {
      "application/javascript": [
       "parent.postMessage({\"jupyterEvent\": \"custom.exercise_interaction\", \"data\": {\"outcomeType\": 1, \"valueTowardsCompletion\": 0.16666666666666666, \"interactionType\": 1, \"questionType\": 2, \"questionId\": \"3_CandySmashingFunctionProblem\", \"learnToolsVersion\": \"0.3.4\", \"failureMessage\": \"\", \"exceptionClass\": \"\", \"trace\": \"\"}}, \"*\")"
      ],
      "text/plain": [
       "<IPython.core.display.Javascript object>"
      ]
     },
     "metadata": {},
     "output_type": "display_data"
    },
    {
     "data": {
      "text/markdown": [
       "<span style=\"color:#33cc33\">Correct</span>"
      ],
      "text/plain": [
       "Correct"
      ]
     },
     "metadata": {},
     "output_type": "display_data"
    }
   ],
   "source": [
    "def to_smash(total_candies,number = 3):\n",
    "    \"\"\"Return the number of leftover candies that must be smashed after distributing\n",
    "    the given number of candies evenly between 3 friends.\n",
    "    \n",
    "    >>> to_smash(91)\n",
    "    1\n",
    "    \"\"\"\n",
    "    \n",
    "    return total_candies-((total_candies//number)*number)\n",
    "\n",
    "# Check your answer\n",
    "q3.check()"
   ]
  },
  {
   "cell_type": "code",
   "execution_count": 7,
   "id": "199d74f1",
   "metadata": {
    "execution": {
     "iopub.execute_input": "2023-02-15T11:01:04.475591Z",
     "iopub.status.busy": "2023-02-15T11:01:04.475040Z",
     "iopub.status.idle": "2023-02-15T11:01:04.480769Z",
     "shell.execute_reply": "2023-02-15T11:01:04.479609Z"
    },
    "papermill": {
     "duration": 0.015688,
     "end_time": "2023-02-15T11:01:04.483194",
     "exception": false,
     "start_time": "2023-02-15T11:01:04.467506",
     "status": "completed"
    },
    "tags": []
   },
   "outputs": [],
   "source": [
    "#q3.hint()"
   ]
  },
  {
   "cell_type": "code",
   "execution_count": 8,
   "id": "89d9c22c",
   "metadata": {
    "execution": {
     "iopub.execute_input": "2023-02-15T11:01:04.498222Z",
     "iopub.status.busy": "2023-02-15T11:01:04.497730Z",
     "iopub.status.idle": "2023-02-15T11:01:04.502807Z",
     "shell.execute_reply": "2023-02-15T11:01:04.501785Z"
    },
    "papermill": {
     "duration": 0.015563,
     "end_time": "2023-02-15T11:01:04.505223",
     "exception": false,
     "start_time": "2023-02-15T11:01:04.489660",
     "status": "completed"
    },
    "tags": []
   },
   "outputs": [],
   "source": [
    "#q3.solution()"
   ]
  },
  {
   "cell_type": "markdown",
   "id": "9bd6d53a",
   "metadata": {
    "papermill": {
     "duration": 0.005927,
     "end_time": "2023-02-15T11:01:04.517687",
     "exception": false,
     "start_time": "2023-02-15T11:01:04.511760",
     "status": "completed"
    },
    "tags": []
   },
   "source": [
    "# 4. (Optional)\n",
    "\n",
    "It may not be fun, but reading and understanding error messages will be an important part of your Python career.\n",
    "\n",
    "Each code cell below contains some commented buggy code. For each cell...\n",
    "\n",
    "1. Read the code and predict what you think will happen when it's run.\n",
    "2. Then uncomment the code and run it to see what happens. (**Tip**: In the kernel editor, you can highlight several lines and press `ctrl`+`/` to toggle commenting.)\n",
    "3. Fix the code (so that it accomplishes its intended purpose without throwing an exception)\n",
    "\n",
    "<!-- TODO: should this be autochecked? Delta is probably pretty small. -->"
   ]
  },
  {
   "cell_type": "code",
   "execution_count": 9,
   "id": "66b17ede",
   "metadata": {
    "execution": {
     "iopub.execute_input": "2023-02-15T11:01:04.532945Z",
     "iopub.status.busy": "2023-02-15T11:01:04.531872Z",
     "iopub.status.idle": "2023-02-15T11:01:04.539938Z",
     "shell.execute_reply": "2023-02-15T11:01:04.538772Z"
    },
    "papermill": {
     "duration": 0.018271,
     "end_time": "2023-02-15T11:01:04.542376",
     "exception": false,
     "start_time": "2023-02-15T11:01:04.524105",
     "status": "completed"
    },
    "tags": []
   },
   "outputs": [
    {
     "data": {
      "text/plain": [
       "10.0"
      ]
     },
     "execution_count": 9,
     "metadata": {},
     "output_type": "execute_result"
    }
   ],
   "source": [
    "round_to_two_places(9.9999)"
   ]
  },
  {
   "cell_type": "code",
   "execution_count": 10,
   "id": "27d6c825",
   "metadata": {
    "execution": {
     "iopub.execute_input": "2023-02-15T11:01:04.558060Z",
     "iopub.status.busy": "2023-02-15T11:01:04.556823Z",
     "iopub.status.idle": "2023-02-15T11:01:04.563449Z",
     "shell.execute_reply": "2023-02-15T11:01:04.562328Z"
    },
    "papermill": {
     "duration": 0.016939,
     "end_time": "2023-02-15T11:01:04.565843",
     "exception": false,
     "start_time": "2023-02-15T11:01:04.548904",
     "status": "completed"
    },
    "tags": []
   },
   "outputs": [],
   "source": [
    "x = -10\n",
    "y = 5\n",
    "# Which of the two variables above has the smallest absolute value?\n",
    "smallest_abs = min(abs(x),y)"
   ]
  },
  {
   "cell_type": "code",
   "execution_count": 11,
   "id": "4a2b08ed",
   "metadata": {
    "execution": {
     "iopub.execute_input": "2023-02-15T11:01:04.581062Z",
     "iopub.status.busy": "2023-02-15T11:01:04.579924Z",
     "iopub.status.idle": "2023-02-15T11:01:04.586969Z",
     "shell.execute_reply": "2023-02-15T11:01:04.585434Z"
    },
    "papermill": {
     "duration": 0.017555,
     "end_time": "2023-02-15T11:01:04.589806",
     "exception": false,
     "start_time": "2023-02-15T11:01:04.572251",
     "status": "completed"
    },
    "tags": []
   },
   "outputs": [
    {
     "name": "stdout",
     "output_type": "stream",
     "text": [
      "5\n"
     ]
    }
   ],
   "source": [
    "def f(x):\n",
    "    y = abs(x)\n",
    "    return y\n",
    "\n",
    "print(f(5))"
   ]
  },
  {
   "cell_type": "markdown",
   "id": "f8925fd5",
   "metadata": {
    "papermill": {
     "duration": 0.00637,
     "end_time": "2023-02-15T11:01:04.602809",
     "exception": false,
     "start_time": "2023-02-15T11:01:04.596439",
     "status": "completed"
    },
    "tags": []
   },
   "source": [
    "# Keep Going\n",
    "\n",
    "Nice job with the code. Next up, you'll learn about *conditionals*, which you'll need to **[write interesting programs](https://www.kaggle.com/colinmorris/booleans-and-conditionals)**. "
   ]
  },
  {
   "cell_type": "markdown",
   "id": "aad7cd9f",
   "metadata": {
    "papermill": {
     "duration": 0.006067,
     "end_time": "2023-02-15T11:01:04.615496",
     "exception": false,
     "start_time": "2023-02-15T11:01:04.609429",
     "status": "completed"
    },
    "tags": []
   },
   "source": [
    "---\n",
    "\n",
    "\n",
    "\n",
    "\n",
    "*Have questions or comments? Visit the [course discussion forum](https://www.kaggle.com/learn/python/discussion) to chat with other learners.*"
   ]
  }
 ],
 "metadata": {
  "kernelspec": {
   "display_name": "Python 3",
   "language": "python",
   "name": "python3"
  },
  "language_info": {
   "codemirror_mode": {
    "name": "ipython",
    "version": 3
   },
   "file_extension": ".py",
   "mimetype": "text/x-python",
   "name": "python",
   "nbconvert_exporter": "python",
   "pygments_lexer": "ipython3",
   "version": "3.7.12"
  },
  "papermill": {
   "default_parameters": {},
   "duration": 11.642029,
   "end_time": "2023-02-15T11:01:05.547825",
   "environment_variables": {},
   "exception": null,
   "input_path": "__notebook__.ipynb",
   "output_path": "__notebook__.ipynb",
   "parameters": {},
   "start_time": "2023-02-15T11:00:53.905796",
   "version": "2.3.4"
  }
 },
 "nbformat": 4,
 "nbformat_minor": 5
}
